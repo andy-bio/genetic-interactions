{
 "cells": [
  {
   "cell_type": "markdown",
   "id": "258c9b12",
   "metadata": {},
   "source": [
    "### Importing libraries and dataframes"
   ]
  },
  {
   "cell_type": "code",
   "execution_count": 2,
   "id": "07cecd8d",
   "metadata": {},
   "outputs": [],
   "source": [
    "from my_methods import *\n",
    "os.mkdir('1-PCC_Values')"
   ]
  },
  {
   "cell_type": "code",
   "execution_count": 2,
   "id": "d2717131",
   "metadata": {},
   "outputs": [],
   "source": [
    "dfE = pd.read_table('data/SGA_ExE.txt')\n",
    "dfN = pd.read_table('data/SGA_NxN.txt')\n",
    "dfEN = pd.read_table('data/SGA_ExN_NxE.txt')"
   ]
  },
  {
   "cell_type": "code",
   "execution_count": 3,
   "id": "d99d2dca",
   "metadata": {},
   "outputs": [],
   "source": [
    "df_global = pd.concat([dfE, dfN, dfEN])\n",
    "df_global.reset_index(inplace=True, drop=False)"
   ]
  },
  {
   "cell_type": "markdown",
   "id": "0978894a",
   "metadata": {},
   "source": [
    "### Multiplicative"
   ]
  },
  {
   "cell_type": "markdown",
   "id": "aa949ce6",
   "metadata": {},
   "source": [
    "#### Calculate interaction values"
   ]
  },
  {
   "cell_type": "code",
   "execution_count": null,
   "id": "b457cc7a",
   "metadata": {},
   "outputs": [],
   "source": [
    "ExE_query, ExE_array = df_to_dictionary(dfE, model='mul')\n",
    "json_save(join_pcc(ExE_query, ExE_array), '1-PCC_Values/ExE_interactions_mul.json')"
   ]
  },
  {
   "cell_type": "code",
   "execution_count": null,
   "id": "f8e9ffce",
   "metadata": {},
   "outputs": [],
   "source": [
    "NxN_query, NxN_array = df_to_dictionary(dfN, model='mul')\n",
    "json_save(join_pcc(NxN_query, NxN_array), '1-PCC_Values/NxN_interactions_mul.json')"
   ]
  },
  {
   "cell_type": "code",
   "execution_count": null,
   "id": "33cd7414",
   "metadata": {},
   "outputs": [],
   "source": [
    "global_query, global_array = df_to_dictionary(df_global, model='mul')\n",
    "global_network_interaction = join_pcc(global_query, global_array)\n",
    "json_save(global_network_interaction, '1-PCC_Values/global_interaction_mul.json')"
   ]
  },
  {
   "cell_type": "markdown",
   "id": "4c4a3338",
   "metadata": {},
   "source": [
    "#### Calculate pcc values for multiplicative"
   ]
  },
  {
   "cell_type": "code",
   "execution_count": 5,
   "id": "393a63e6",
   "metadata": {},
   "outputs": [],
   "source": [
    "ExE_query_pcc = calculate_pcc(ExE_query)\n",
    "ExE_array_pcc = calculate_pcc(ExE_array)\n",
    "ExE = join_pcc(ExE_query_pcc, ExE_array_pcc)\n",
    "json_save(ExE, '1-PCC_Values/ExE_pcc_mul.json')"
   ]
  },
  {
   "cell_type": "code",
   "execution_count": null,
   "id": "093c6837",
   "metadata": {},
   "outputs": [],
   "source": [
    "NxN_query_pcc = calculate_pcc(NxN_query)\n",
    "NxN_array_pcc = calculate_pcc(NxN_array)\n",
    "NxN = join_pcc(NxN_query_pcc, NxN_array_pcc)\n",
    "json_save(NxN, '1-PCC_Values/NxN_pcc_mul.json')"
   ]
  },
  {
   "cell_type": "code",
   "execution_count": null,
   "id": "d50295e0",
   "metadata": {},
   "outputs": [],
   "source": [
    "global_query_pcc = calculate_pcc(global_query)\n",
    "global_array_pcc = calculate_pcc(global_array)\n",
    "global_network = join_pcc(global_query_pcc, global_array_pcc)\n",
    "json_save(global_network, '1-PCC_Values/global_network_mul.json')"
   ]
  },
  {
   "cell_type": "markdown",
   "id": "75d14843",
   "metadata": {},
   "source": [
    "### Additive"
   ]
  },
  {
   "cell_type": "markdown",
   "id": "120aed58",
   "metadata": {},
   "source": [
    "#### Calculate interaction values"
   ]
  },
  {
   "cell_type": "code",
   "execution_count": null,
   "id": "db7fe01e",
   "metadata": {},
   "outputs": [],
   "source": [
    "ExE_query, ExE_array = df_to_dictionary(dfE, model='add')\n",
    "json_save(join_pcc(ExE_query, ExE_array), '1-PCC_Values/ExE_interactions_add.json')"
   ]
  },
  {
   "cell_type": "code",
   "execution_count": null,
   "id": "9cdd05d8",
   "metadata": {},
   "outputs": [],
   "source": [
    "NxN_query, NxN_array = df_to_dictionary(dfN, model='add')\n",
    "json_save(join_pcc(NxN_query, NxN_array), '1-PCC_Values/NxN_interactions_add.json')"
   ]
  },
  {
   "cell_type": "code",
   "execution_count": null,
   "id": "dcab4749",
   "metadata": {},
   "outputs": [],
   "source": [
    "global_query, global_array = df_to_dictionary(df_global, model='add')\n",
    "global_network_interaction = join_pcc(global_query, global_array)\n",
    "json_save(global_network_interaction, '1-PCC_Values/global_interaction_add.json')"
   ]
  },
  {
   "cell_type": "markdown",
   "id": "989c65f0",
   "metadata": {},
   "source": [
    "#### Calculate pcc values for additive"
   ]
  },
  {
   "cell_type": "code",
   "execution_count": 5,
   "id": "fb01ef3f",
   "metadata": {},
   "outputs": [],
   "source": [
    "ExE_query_pcc = calculate_pcc(ExE_query)\n",
    "ExE_array_pcc = calculate_pcc(ExE_array)\n",
    "ExE = join_pcc(ExE_query_pcc, ExE_array_pcc)\n",
    "json_save(ExE, '1-PCC_Values/ExE_pcc_add.json')"
   ]
  },
  {
   "cell_type": "code",
   "execution_count": null,
   "id": "09da39d9",
   "metadata": {},
   "outputs": [],
   "source": [
    "NxN_query_pcc = calculate_pcc(NxN_query)\n",
    "NxN_array_pcc = calculate_pcc(NxN_array)\n",
    "NxN = join_pcc(NxN_query_pcc, NxN_array_pcc)\n",
    "json_save(NxN, '1-PCC_Values/NxN_pcc_add.json')"
   ]
  },
  {
   "cell_type": "code",
   "execution_count": null,
   "id": "40cbcf90",
   "metadata": {},
   "outputs": [],
   "source": [
    "global_query_pcc = calculate_pcc(global_query)\n",
    "global_array_pcc = calculate_pcc(global_array)\n",
    "global_network = join_pcc(global_query_pcc, global_array_pcc)\n",
    "json_save(global_network, '1-PCC_Values/global_network_add.json')"
   ]
  },
  {
   "cell_type": "markdown",
   "id": "82e3f167",
   "metadata": {},
   "source": [
    "### Exporting csv for Cytoscape"
   ]
  },
  {
   "cell_type": "code",
   "execution_count": 3,
   "id": "80a430a9",
   "metadata": {},
   "outputs": [],
   "source": [
    "ExE_mul02 = select_interactions(json_load('1-PCC_Values/ExE_pcc_mul.json'), 0.2)\n",
    "to_cytoscape(ExE_mul02, 'Testing_networks/ExE_mul.csv')\n",
    "ExE_add02 = select_interactions(json_load('1-PCC_Values/ExE_pcc_add.json'), 0.2)\n",
    "to_cytoscape(ExE_add02, 'Testing_networks/ExE_add.csv')"
   ]
  },
  {
   "cell_type": "code",
   "execution_count": 13,
   "id": "d0066ce4",
   "metadata": {},
   "outputs": [
    {
     "data": {
      "text/plain": [
       "(2908, 76034)"
      ]
     },
     "execution_count": 13,
     "metadata": {},
     "output_type": "execute_result"
    }
   ],
   "source": [
    "# Funcion para remover los nodos mas conectados\n",
    "def remove_extreme_hubs(dic, percentage=15):\n",
    "    counter = []\n",
    "    for k in dic.keys():\n",
    "        counter.append((k, len(dic[k])))\n",
    "    counter.sort(key=lambda x: x[1], reverse=True)\n",
    "    counter = counter[int(percentage/100*count_genes(dic)):]\n",
    "    higher_degree = counter[0][1]\n",
    "    new_dic = {k:v for k,v in dic.items() if len(dic[k])<=higher_degree}\n",
    "    return new_dic"
   ]
  },
  {
   "cell_type": "code",
   "execution_count": 14,
   "id": "a9cff948",
   "metadata": {},
   "outputs": [],
   "source": [
    "NxN_mul02 = select_interactions(json_load('1-PCC_Values/NxN_pcc_mul.json'), 0.2)\n",
    "to_cytoscape(NxN_mul02, 'Testing_networks/NxN_mul.csv')\n",
    "NxN_add02 = select_interactions(json_load('1-PCC_Values/NxN_pcc_add.json'), 0.2)\n",
    "NxN_add02 = remove_extreme_hubs(NxN_add02, 15)\n",
    "to_cytoscape(NxN_add02, 'Testing_networks/NxN_add.csv')"
   ]
  },
  {
   "cell_type": "code",
   "execution_count": 15,
   "id": "63e956ac",
   "metadata": {},
   "outputs": [],
   "source": [
    "global_mul02 = select_interactions(json_load('1-PCC_Values/global_network_mul.json'), 0.2)\n",
    "to_cytoscape(global_mul02, 'Testing_networks/global_mul.csv')\n",
    "global_add02 = select_interactions(json_load('1-PCC_Values/global_network_add.json'), 0.2)\n",
    "global_add02 = remove_extreme_hubs(global_add02, 15)\n",
    "to_cytoscape(global_add02, 'Testing_networks/global_add.csv')"
   ]
  }
 ],
 "metadata": {
  "kernelspec": {
   "display_name": "Python 3 (ipykernel)",
   "language": "python",
   "name": "python3"
  },
  "language_info": {
   "codemirror_mode": {
    "name": "ipython",
    "version": 3
   },
   "file_extension": ".py",
   "mimetype": "text/x-python",
   "name": "python",
   "nbconvert_exporter": "python",
   "pygments_lexer": "ipython3",
   "version": "3.9.12"
  },
  "latex_envs": {
   "LaTeX_envs_menu_present": true,
   "autoclose": true,
   "autocomplete": true,
   "bibliofile": "biblio.bib",
   "cite_by": "apalike",
   "current_citInitial": 1,
   "eqLabelWithNumbers": true,
   "eqNumInitial": 1,
   "hotkeys": {
    "equation": "Ctrl-E",
    "itemize": "Ctrl-I"
   },
   "labels_anchors": false,
   "latex_user_defs": false,
   "report_style_numbering": false,
   "user_envs_cfg": true
  },
  "vscode": {
   "interpreter": {
    "hash": "b67c32649d4e3d61c4781f757843c743bfb03b11540cea12a0346b1b611554a3"
   }
  }
 },
 "nbformat": 4,
 "nbformat_minor": 5
}
