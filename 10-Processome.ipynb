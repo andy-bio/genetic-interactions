{
 "cells": [
  {
   "cell_type": "code",
   "execution_count": 1,
   "id": "ae0f9583",
   "metadata": {},
   "outputs": [],
   "source": [
    "from my_methods import *"
   ]
  },
  {
   "cell_type": "code",
   "execution_count": 2,
   "id": "3225dd08",
   "metadata": {},
   "outputs": [],
   "source": [
    "def represent_network(gene_list, dic, dist=0):    \n",
    "    dic0 = dict(filter(lambda x: x[0] in gene_list, dic.items()))\n",
    "    dic_f = {}\n",
    "    for k in dic0.keys():\n",
    "        dic_f[k] = dict(filter(lambda x: x[0] in gene_list, dic0[k].items()))\n",
    "    if dist==1:\n",
    "        proc = list(dic0.keys())\n",
    "        for gene in proc: # gene es un gen del procesoma\n",
    "            proc = list(dic0.keys())\n",
    "            interactors = list(dic[gene].keys()) # todos los genes que interactuan con gene\n",
    "            interactors = list(filter(lambda x: x not in proc, interactors)) # me quedo con los que no estan en proc\n",
    "            proc.remove(gene)\n",
    "            for i in interactors: # i es cada interactor de gene\n",
    "                if len(set(dic[i].keys()).intersection(set(proc)))>0:\n",
    "                    dic_f[i] = dict(filter(lambda x: x[0] in dic0.keys(), dic[i].items()))\n",
    "                    for j in dic_f[i].keys():\n",
    "                        dic_f[j][i] = dic[i][j]\n",
    "    return dic_f"
   ]
  },
  {
   "cell_type": "markdown",
   "id": "bbdf64db",
   "metadata": {},
   "source": [
    "### Processome"
   ]
  },
  {
   "cell_type": "code",
   "execution_count": 3,
   "id": "ebaab912",
   "metadata": {},
   "outputs": [
    {
     "data": {
      "text/html": [
       "<div>\n",
       "<style scoped>\n",
       "    .dataframe tbody tr th:only-of-type {\n",
       "        vertical-align: middle;\n",
       "    }\n",
       "\n",
       "    .dataframe tbody tr th {\n",
       "        vertical-align: top;\n",
       "    }\n",
       "\n",
       "    .dataframe thead th {\n",
       "        text-align: right;\n",
       "    }\n",
       "</style>\n",
       "<table border=\"1\" class=\"dataframe\">\n",
       "  <thead>\n",
       "    <tr style=\"text-align: right;\">\n",
       "      <th></th>\n",
       "      <th>Candidate Hubs</th>\n",
       "      <th># of interactors (eM)</th>\n",
       "      <th># of interactors (eA)</th>\n",
       "      <th># of common interactors</th>\n",
       "    </tr>\n",
       "  </thead>\n",
       "  <tbody>\n",
       "    <tr>\n",
       "      <th>0</th>\n",
       "      <td>rcl1</td>\n",
       "      <td>2</td>\n",
       "      <td>56</td>\n",
       "      <td>1</td>\n",
       "    </tr>\n",
       "    <tr>\n",
       "      <th>1</th>\n",
       "      <td>vrg4</td>\n",
       "      <td>2</td>\n",
       "      <td>58</td>\n",
       "      <td>2</td>\n",
       "    </tr>\n",
       "    <tr>\n",
       "      <th>2</th>\n",
       "      <td>erg12</td>\n",
       "      <td>5</td>\n",
       "      <td>75</td>\n",
       "      <td>0</td>\n",
       "    </tr>\n",
       "    <tr>\n",
       "      <th>3</th>\n",
       "      <td>noc4</td>\n",
       "      <td>0</td>\n",
       "      <td>73</td>\n",
       "      <td>0</td>\n",
       "    </tr>\n",
       "    <tr>\n",
       "      <th>4</th>\n",
       "      <td>imp4</td>\n",
       "      <td>1</td>\n",
       "      <td>50</td>\n",
       "      <td>0</td>\n",
       "    </tr>\n",
       "    <tr>\n",
       "      <th>5</th>\n",
       "      <td>pop6</td>\n",
       "      <td>1</td>\n",
       "      <td>33</td>\n",
       "      <td>1</td>\n",
       "    </tr>\n",
       "    <tr>\n",
       "      <th>6</th>\n",
       "      <td>rok1</td>\n",
       "      <td>0</td>\n",
       "      <td>71</td>\n",
       "      <td>0</td>\n",
       "    </tr>\n",
       "    <tr>\n",
       "      <th>7</th>\n",
       "      <td>tif35</td>\n",
       "      <td>0</td>\n",
       "      <td>78</td>\n",
       "      <td>0</td>\n",
       "    </tr>\n",
       "    <tr>\n",
       "      <th>8</th>\n",
       "      <td>bms1</td>\n",
       "      <td>3</td>\n",
       "      <td>59</td>\n",
       "      <td>2</td>\n",
       "    </tr>\n",
       "    <tr>\n",
       "      <th>9</th>\n",
       "      <td>mpp10</td>\n",
       "      <td>0</td>\n",
       "      <td>86</td>\n",
       "      <td>0</td>\n",
       "    </tr>\n",
       "    <tr>\n",
       "      <th>10</th>\n",
       "      <td>tim17</td>\n",
       "      <td>1</td>\n",
       "      <td>53</td>\n",
       "      <td>0</td>\n",
       "    </tr>\n",
       "    <tr>\n",
       "      <th>11</th>\n",
       "      <td>trm112</td>\n",
       "      <td>0</td>\n",
       "      <td>82</td>\n",
       "      <td>0</td>\n",
       "    </tr>\n",
       "    <tr>\n",
       "      <th>12</th>\n",
       "      <td>rrp7</td>\n",
       "      <td>0</td>\n",
       "      <td>49</td>\n",
       "      <td>0</td>\n",
       "    </tr>\n",
       "  </tbody>\n",
       "</table>\n",
       "</div>"
      ],
      "text/plain": [
       "   Candidate Hubs  # of interactors (eM)  # of interactors (eA)  \\\n",
       "0            rcl1                      2                     56   \n",
       "1            vrg4                      2                     58   \n",
       "2           erg12                      5                     75   \n",
       "3            noc4                      0                     73   \n",
       "4            imp4                      1                     50   \n",
       "5            pop6                      1                     33   \n",
       "6            rok1                      0                     71   \n",
       "7           tif35                      0                     78   \n",
       "8            bms1                      3                     59   \n",
       "9           mpp10                      0                     86   \n",
       "10          tim17                      1                     53   \n",
       "11         trm112                      0                     82   \n",
       "12           rrp7                      0                     49   \n",
       "\n",
       "    # of common interactors  \n",
       "0                         1  \n",
       "1                         2  \n",
       "2                         0  \n",
       "3                         0  \n",
       "4                         0  \n",
       "5                         1  \n",
       "6                         0  \n",
       "7                         0  \n",
       "8                         2  \n",
       "9                         0  \n",
       "10                        0  \n",
       "11                        0  \n",
       "12                        0  "
      ]
     },
     "execution_count": 3,
     "metadata": {},
     "output_type": "execute_result"
    }
   ],
   "source": [
    "dfE = pd.read_table('data/SGA_ExE.txt')\n",
    "dfE = dfE.dropna()            # Elimino filas con NaN\n",
    "dfE.reset_index(inplace=True, drop=True)\n",
    "##################################\n",
    "dfE['Mul'] = dfE['Double mutant fitness']-dfE['Query single mutant fitness (SMF)']*dfE['Array SMF']         # columna con interacciones mul\n",
    "dfE['Add'] = dfE['Double mutant fitness']-(dfE['Query single mutant fitness (SMF)']+dfE['Array SMF']-1)     # columna con interacciones add\n",
    "##################################\n",
    "std_mul = dfE['Mul'].std()           # Desviaciones estandar de cada columna\n",
    "std_add = dfE['Add'].std()\n",
    "##################################\n",
    "dfE['Query allele name'] = dfE['Query allele name'].map(lambda x: x.split('-')[0])        # Cambio de nombre\n",
    "dfE['Array allele name'] = dfE['Array allele name'].map(lambda x: x.split('-')[0])\n",
    "##################################\n",
    "dfE = dfE.loc[dfE['P-value']<0.05]             # Filtro P-value\n",
    "dfE.head()\n",
    "\n",
    "\n",
    "########################################################################\n",
    "\n",
    "def df_to_dictionary_splitted(csv, model, pvalue=1):\n",
    "    df = csv.loc[csv[ 'P-value' ]<pvalue]\n",
    "    df.reset_index(inplace=True, drop=True)\n",
    "    query_dic = {}\n",
    "    array_dic = {}\n",
    "    for i in range(len(df)):\n",
    "        if model == 'mul':\n",
    "            interaction = df.loc[i, 'Double mutant fitness']-df.loc[i, 'Query single mutant fitness (SMF)']*df.loc[i, 'Array SMF']\n",
    "        if model == 'add':\n",
    "            interaction = df.loc[i, 'Double mutant fitness']-(df.loc[i, 'Query single mutant fitness (SMF)']+df.loc[i, 'Array SMF']-1)\n",
    "        if not (np.isnan(interaction) or np.isinf(interaction)):\n",
    "            query = df.loc[i, 'Query allele name']\n",
    "            array = df.loc[i, 'Array allele name']\n",
    "            ########################################################\n",
    "            if query not in query_dic.keys():\n",
    "                query_dic[query]={}\n",
    "            if array not in query_dic[query].keys():\n",
    "                query_dic[query][array]=interaction\n",
    "            elif abs(interaction) > abs(query_dic[query][array]):\n",
    "                query_dic[query][array]=interaction\n",
    "            ########################################################\n",
    "            if array not in array_dic.keys():\n",
    "                array_dic[array]={}\n",
    "            if query not in array_dic[array].keys():\n",
    "                array_dic[array][query]=interaction\n",
    "            elif abs(interaction) > abs(array_dic[array][query]):\n",
    "                array_dic[array][query]=interaction\n",
    "            ########################################################\n",
    "    return query_dic, array_dic\n",
    "\n",
    "########################################################################\n",
    "\n",
    "qE, aE = df_to_dictionary_splitted(dfE, model='mul', pvalue=0.05)\n",
    "ExE_mul = join_pcc(qE, aE)\n",
    "\n",
    "qE, aE = df_to_dictionary_splitted(dfE, model='add', pvalue=0.05)\n",
    "ExE_add = join_pcc(qE, aE)\n",
    "\n",
    "########################################################################\n",
    "\n",
    "for gene in ExE_mul.keys():\n",
    "    ExE_mul[gene] = dict(filter(lambda x: abs(x[1])>2*std_mul, ExE_mul[gene].items()))\n",
    "\n",
    "for gene in ExE_add.keys():\n",
    "    ExE_add[gene] = dict(filter(lambda x: abs(x[1])>2*std_add, ExE_add[gene].items()))\n",
    "\n",
    "########################################################################\n",
    "\n",
    "potential_hubs0 = []\n",
    "for gene in ExE_add.keys():\n",
    "    try:\n",
    "####### De aquellos genes con mas de 30 interactores en add se buscan los genes que en add tienen mas de 10 veces la cantidad de interactores predicha por mul\n",
    "####### Busco los que en add tienen 10 veces mas interactores que en mul\n",
    "        if len(ExE_add[gene])>30 and len(ExE_mul[gene]) > 0 and len(ExE_mul[gene]) < 0.1 * len(ExE_add[gene]):\n",
    "            potential_hubs0.append(gene)\n",
    "####### Busco los que en mul tienen 0 interactores y mas de 30\n",
    "        if len(ExE_mul[gene]) == 0 and len(ExE_add[gene])>30:\n",
    "            potential_hubs0.append(gene)\n",
    "    except:\n",
    "        pass\n",
    "potential_hubs0 = list(set(potential_hubs0))\n",
    "len(potential_hubs0)\n",
    "\n",
    "########################################################################\n",
    "\n",
    "table = pd.DataFrame(\n",
    "    {'Candidate Hubs':[],\n",
    "    '# of interactors (eM)':[],\n",
    "    '# of interactors (eA)':[],\n",
    "    '# of common interactors':[],\n",
    "    }\n",
    ")\n",
    "for i in range(len(potential_hubs0)):\n",
    "    gene = potential_hubs0[i]\n",
    "    # int_mul = ExE_mul[gene].keys()\n",
    "    # int_add = ExE_add[gene].keys()\n",
    "    int_mul = len(ExE_mul[gene])\n",
    "    int_add = len(ExE_add[gene])\n",
    "    intersection = set(ExE_mul[gene].keys()).intersection(set(ExE_add[gene].keys()))\n",
    "    # table.loc[i,] = [i, len(int_mul), len(int_add), len(intersection)]\n",
    "    table.loc[i,] = [i, int_mul, int_add, len(intersection)]\n",
    "table['Candidate Hubs'] = list(map(lambda x: x.split('-')[0], potential_hubs0))\n",
    "table[table.columns[1:4]] = table[table.columns[1:4]].astype('int32')\n",
    "table"
   ]
  },
  {
   "cell_type": "code",
   "execution_count": 4,
   "id": "544517b9",
   "metadata": {},
   "outputs": [],
   "source": [
    "processome = potential_hubs0\n",
    "processome.remove('tim17')\n",
    "processome.remove('pop6')\n",
    "processome.remove('vrg4')\n",
    "processome.remove('erg12')\n",
    "processome.remove('tif35')\n",
    "processome.remove('trm112')"
   ]
  },
  {
   "cell_type": "code",
   "execution_count": 5,
   "id": "a80a8df2",
   "metadata": {},
   "outputs": [],
   "source": [
    "#processome = set(map(lambda x: x.upper(), processome))\n",
    "#processome.difference(processome_genes)"
   ]
  },
  {
   "cell_type": "code",
   "execution_count": 6,
   "id": "8dbf7c1c",
   "metadata": {},
   "outputs": [],
   "source": [
    "dist0_mul = represent_network(gene_list=processome, dic=ExE_mul, dist=0)\n",
    "dist0_add = represent_network(gene_list=processome, dic=ExE_add, dist=0)\n",
    "\n",
    "dist1_mul = represent_network(gene_list=processome, dic=ExE_mul, dist=1)\n",
    "dist1_add = represent_network(gene_list=processome, dic=ExE_add, dist=1)"
   ]
  },
  {
   "cell_type": "code",
   "execution_count": 7,
   "id": "b54b89c5",
   "metadata": {},
   "outputs": [
    {
     "data": {
      "text/plain": [
       "(7, 131)"
      ]
     },
     "execution_count": 7,
     "metadata": {},
     "output_type": "execute_result"
    }
   ],
   "source": [
    "len(dist1_mul.keys()), len(dist1_add.keys())\n",
    "# Los genes en la medida add a distancia 1 si estan conectados"
   ]
  },
  {
   "cell_type": "code",
   "execution_count": 8,
   "id": "0f25aa6a",
   "metadata": {},
   "outputs": [],
   "source": [
    "def to_table(dic, path, marked:list):\n",
    "    panel = {\n",
    "             'source gene':[],\n",
    "             'target gene':[],\n",
    "             'interaction score': []\n",
    "             }\n",
    "    for key in dic.keys():\n",
    "        for gene in dic[key]:\n",
    "            panel['source gene'].append(key)\n",
    "            panel['target gene'].append(gene)\n",
    "            panel['interaction score'].append(abs(dic[key][gene]))\n",
    "    df = pd.DataFrame(panel)\n",
    "    df['marked'] = df['source gene'].apply(lambda x: x in marked)\n",
    "    df.to_csv(path, index=False)"
   ]
  },
  {
   "cell_type": "code",
   "execution_count": 9,
   "id": "121189ee",
   "metadata": {},
   "outputs": [],
   "source": [
    "to_table(dist1_add, 'pptProcessome.csv', marked=processome)"
   ]
  },
  {
   "cell_type": "code",
   "execution_count": 10,
   "id": "2ca6447b",
   "metadata": {},
   "outputs": [],
   "source": [
    "proc_interactors = list(dist1_add.keys())\n",
    "proc_interactors.extend([k1 for k in dist1_add.keys() for k1 in dist1_add[k].keys()])\n",
    "proc_interactors = set(proc_interactors)\n",
    "#proc_interactors = list(set(filter(lambda x: x not in processome, proc_interactors)))"
   ]
  },
  {
   "cell_type": "code",
   "execution_count": 13,
   "id": "063c1083",
   "metadata": {},
   "outputs": [],
   "source": [
    "list_save(list(map(lambda x: x.upper(), proc_interactors)), 'Processome_interactors_ExE_add.txt')"
   ]
  },
  {
   "cell_type": "code",
   "execution_count": 14,
   "id": "0584f179",
   "metadata": {},
   "outputs": [
    {
     "name": "stdout",
     "output_type": "stream",
     "text": [
      "tail: error writing 'standard output': Broken pipe\r\n"
     ]
    }
   ],
   "source": [
    "!mkdir Processome\n",
    "!mkdir Processome/proc_interactions_ExE\n",
    "!mv Processome_interactors_ExE_add.txt Processome/proc_interactions_ExE\n",
    "!./enrichment.sh Processome"
   ]
  },
  {
   "cell_type": "code",
   "execution_count": 15,
   "id": "322802e7",
   "metadata": {},
   "outputs": [],
   "source": [
    "results = pd.read_table('Processome/proc_interactions_ExE/results_parsed/Processome_interactors_ExE_add.txt_result.txt_parsed.txt')"
   ]
  },
  {
   "cell_type": "code",
   "execution_count": 17,
   "id": "30b45ea2",
   "metadata": {},
   "outputs": [
    {
     "data": {
      "text/html": [
       "<div>\n",
       "<style scoped>\n",
       "    .dataframe tbody tr th:only-of-type {\n",
       "        vertical-align: middle;\n",
       "    }\n",
       "\n",
       "    .dataframe tbody tr th {\n",
       "        vertical-align: top;\n",
       "    }\n",
       "\n",
       "    .dataframe thead th {\n",
       "        text-align: right;\n",
       "    }\n",
       "</style>\n",
       "<table border=\"1\" class=\"dataframe\">\n",
       "  <thead>\n",
       "    <tr style=\"text-align: right;\">\n",
       "      <th></th>\n",
       "      <th>name</th>\n",
       "      <th>ratio_in_study</th>\n",
       "      <th>ratio_in_pop</th>\n",
       "      <th>p_fdr_bh</th>\n",
       "      <th>study_items</th>\n",
       "    </tr>\n",
       "  </thead>\n",
       "  <tbody>\n",
       "    <tr>\n",
       "      <th>0</th>\n",
       "      <td>nucleic acid metabolic process</td>\n",
       "      <td>73/131</td>\n",
       "      <td>1451/6982</td>\n",
       "      <td>4.300000e-15</td>\n",
       "      <td>AAR2, ACT1, BMS1, BRX1, CDC1, CDC13, CDC48, DC...</td>\n",
       "    </tr>\n",
       "    <tr>\n",
       "      <th>1</th>\n",
       "      <td>RNA metabolic process</td>\n",
       "      <td>61/131</td>\n",
       "      <td>1089/6982</td>\n",
       "      <td>7.530000e-14</td>\n",
       "      <td>AAR2, BMS1, BRX1, CDC48, DCP2, DIM1, ERB1, FAL...</td>\n",
       "    </tr>\n",
       "    <tr>\n",
       "      <th>2</th>\n",
       "      <td>nucleobase-containing compound metabolic process</td>\n",
       "      <td>75/131</td>\n",
       "      <td>1658/6982</td>\n",
       "      <td>1.840000e-13</td>\n",
       "      <td>AAR2, ACT1, BMS1, BRX1, CDC1, CDC13, CDC21, CD...</td>\n",
       "    </tr>\n",
       "    <tr>\n",
       "      <th>3</th>\n",
       "      <td>cellular aromatic compound metabolic process</td>\n",
       "      <td>76/131</td>\n",
       "      <td>1744/6982</td>\n",
       "      <td>6.760000e-13</td>\n",
       "      <td>AAR2, ACT1, BMS1, BRX1, CDC1, CDC13, CDC21, CD...</td>\n",
       "    </tr>\n",
       "    <tr>\n",
       "      <th>4</th>\n",
       "      <td>heterocycle metabolic process</td>\n",
       "      <td>76/131</td>\n",
       "      <td>1759/6982</td>\n",
       "      <td>8.710000e-13</td>\n",
       "      <td>AAR2, ACT1, BMS1, BRX1, CDC1, CDC13, CDC21, CD...</td>\n",
       "    </tr>\n",
       "    <tr>\n",
       "      <th>5</th>\n",
       "      <td>RNA processing</td>\n",
       "      <td>46/131</td>\n",
       "      <td>683/6982</td>\n",
       "      <td>1.270000e-12</td>\n",
       "      <td>AAR2, BMS1, BRX1, DCP2, DIM1, ERB1, FAL1, GLE1...</td>\n",
       "    </tr>\n",
       "    <tr>\n",
       "      <th>6</th>\n",
       "      <td>cellular component organization or biogenesis</td>\n",
       "      <td>82/131</td>\n",
       "      <td>2041/6982</td>\n",
       "      <td>1.270000e-12</td>\n",
       "      <td>AAR2, ACT1, AFG2, ARC15, ASA1, BMS1, BOS1, BRL...</td>\n",
       "    </tr>\n",
       "    <tr>\n",
       "      <th>7</th>\n",
       "      <td>ribonucleoprotein complex biogenesis</td>\n",
       "      <td>27/131</td>\n",
       "      <td>224/6982</td>\n",
       "      <td>2.550000e-12</td>\n",
       "      <td>AFG2, BMS1, BRX1, DIM1, ERB1, FAL1, HRR25, IMP...</td>\n",
       "    </tr>\n",
       "    <tr>\n",
       "      <th>8</th>\n",
       "      <td>organic cyclic compound metabolic process</td>\n",
       "      <td>76/131</td>\n",
       "      <td>1813/6982</td>\n",
       "      <td>2.960000e-12</td>\n",
       "      <td>AAR2, ACT1, BMS1, BRX1, CDC1, CDC13, CDC21, CD...</td>\n",
       "    </tr>\n",
       "    <tr>\n",
       "      <th>9</th>\n",
       "      <td>nitrogen compound metabolic process</td>\n",
       "      <td>100/131</td>\n",
       "      <td>3078/6982</td>\n",
       "      <td>2.280000e-11</td>\n",
       "      <td>AAR2, ACT1, APC11, BMS1, BRX1, CDC1, CDC13, CD...</td>\n",
       "    </tr>\n",
       "    <tr>\n",
       "      <th>10</th>\n",
       "      <td>cellular component biogenesis</td>\n",
       "      <td>27/131</td>\n",
       "      <td>250/6982</td>\n",
       "      <td>2.910000e-11</td>\n",
       "      <td>AFG2, BMS1, BRX1, DIM1, ERB1, FAL1, HRR25, IMP...</td>\n",
       "    </tr>\n",
       "    <tr>\n",
       "      <th>11</th>\n",
       "      <td>cellular nitrogen compound metabolic process</td>\n",
       "      <td>80/131</td>\n",
       "      <td>2073/6982</td>\n",
       "      <td>3.590000e-11</td>\n",
       "      <td>AAR2, ACT1, BMS1, BRX1, CDC1, CDC13, CDC21, CD...</td>\n",
       "    </tr>\n",
       "    <tr>\n",
       "      <th>12</th>\n",
       "      <td>ribosome biogenesis</td>\n",
       "      <td>24/131</td>\n",
       "      <td>194/6982</td>\n",
       "      <td>3.590000e-11</td>\n",
       "      <td>AFG2, BMS1, BRX1, DIM1, ERB1, FAL1, IMP4, IPI1...</td>\n",
       "    </tr>\n",
       "    <tr>\n",
       "      <th>13</th>\n",
       "      <td>protein-containing complex organization</td>\n",
       "      <td>40/131</td>\n",
       "      <td>591/6982</td>\n",
       "      <td>6.520000e-11</td>\n",
       "      <td>AAR2, BRX1, CDC123, CDC48, DED1, HSP10, IPI1, ...</td>\n",
       "    </tr>\n",
       "  </tbody>\n",
       "</table>\n",
       "</div>"
      ],
      "text/plain": [
       "                                                name ratio_in_study  \\\n",
       "0                     nucleic acid metabolic process         73/131   \n",
       "1                     RNA metabolic process                  61/131   \n",
       "2   nucleobase-containing compound metabolic process         75/131   \n",
       "3       cellular aromatic compound metabolic process         76/131   \n",
       "4                     heterocycle metabolic process          76/131   \n",
       "5                     RNA processing                         46/131   \n",
       "6      cellular component organization or biogenesis         82/131   \n",
       "7               ribonucleoprotein complex biogenesis         27/131   \n",
       "8          organic cyclic compound metabolic process         76/131   \n",
       "9                nitrogen compound metabolic process        100/131   \n",
       "10                    cellular component biogenesis          27/131   \n",
       "11      cellular nitrogen compound metabolic process         80/131   \n",
       "12                    ribosome biogenesis                    24/131   \n",
       "13           protein-containing complex organization         40/131   \n",
       "\n",
       "   ratio_in_pop      p_fdr_bh  \\\n",
       "0     1451/6982  4.300000e-15   \n",
       "1     1089/6982  7.530000e-14   \n",
       "2     1658/6982  1.840000e-13   \n",
       "3     1744/6982  6.760000e-13   \n",
       "4     1759/6982  8.710000e-13   \n",
       "5      683/6982  1.270000e-12   \n",
       "6     2041/6982  1.270000e-12   \n",
       "7      224/6982  2.550000e-12   \n",
       "8     1813/6982  2.960000e-12   \n",
       "9     3078/6982  2.280000e-11   \n",
       "10     250/6982  2.910000e-11   \n",
       "11    2073/6982  3.590000e-11   \n",
       "12     194/6982  3.590000e-11   \n",
       "13     591/6982  6.520000e-11   \n",
       "\n",
       "                                          study_items  \n",
       "0   AAR2, ACT1, BMS1, BRX1, CDC1, CDC13, CDC48, DC...  \n",
       "1   AAR2, BMS1, BRX1, CDC48, DCP2, DIM1, ERB1, FAL...  \n",
       "2   AAR2, ACT1, BMS1, BRX1, CDC1, CDC13, CDC21, CD...  \n",
       "3   AAR2, ACT1, BMS1, BRX1, CDC1, CDC13, CDC21, CD...  \n",
       "4   AAR2, ACT1, BMS1, BRX1, CDC1, CDC13, CDC21, CD...  \n",
       "5   AAR2, BMS1, BRX1, DCP2, DIM1, ERB1, FAL1, GLE1...  \n",
       "6   AAR2, ACT1, AFG2, ARC15, ASA1, BMS1, BOS1, BRL...  \n",
       "7   AFG2, BMS1, BRX1, DIM1, ERB1, FAL1, HRR25, IMP...  \n",
       "8   AAR2, ACT1, BMS1, BRX1, CDC1, CDC13, CDC21, CD...  \n",
       "9   AAR2, ACT1, APC11, BMS1, BRX1, CDC1, CDC13, CD...  \n",
       "10  AFG2, BMS1, BRX1, DIM1, ERB1, FAL1, HRR25, IMP...  \n",
       "11  AAR2, ACT1, BMS1, BRX1, CDC1, CDC13, CDC21, CD...  \n",
       "12  AFG2, BMS1, BRX1, DIM1, ERB1, FAL1, IMP4, IPI1...  \n",
       "13  AAR2, BRX1, CDC123, CDC48, DED1, HSP10, IPI1, ...  "
      ]
     },
     "execution_count": 17,
     "metadata": {},
     "output_type": "execute_result"
    }
   ],
   "source": [
    "results[['name', 'ratio_in_study', 'ratio_in_pop', 'p_fdr_bh', 'study_items']] #Incluyendo a los que ya tenia"
   ]
  },
  {
   "cell_type": "code",
   "execution_count": 18,
   "id": "5d939081",
   "metadata": {},
   "outputs": [],
   "source": [
    "## Muy buen resultado, hay que seguir buscando quienes de estos genes son los que estan formando proteinas del complejo"
   ]
  },
  {
   "cell_type": "code",
   "execution_count": 3,
   "id": "903c0248",
   "metadata": {},
   "outputs": [],
   "source": [
    "# Voy a eliminar algunas entradas del txt donde estan los genes del procesoma\n",
    "processome_genes = list_load('processome_genes.txt')\n",
    "processome_genes.extend(['IMP3','IMP4', 'MPP10']) # MPP10 complex\n",
    "processome_genes.extend(['NOP14', 'NOC4']) # NOP14-NOC4 complex\n",
    "processome_genes.extend(['RCL1', 'BMS1']) # RCL1-BMS1 complex\n",
    "processome_genes.extend(['NAN1', 'UTP10', 'UTP15', 'UTP4', 'UTP5', 'UTP8', 'UTP9']) # UTP-A complex\n",
    "processome_genes.extend(['DIP2', 'PWP2', 'UTP13', 'UTP18', 'UTP21', 'UTP6']) # UTP-B complex\n",
    "processome_genes.extend(['CKA1', 'CKB1', 'CKB2', 'RRP7', 'UTP22']) # UTP-C complex variant 2"
   ]
  },
  {
   "cell_type": "code",
   "execution_count": 12,
   "id": "e6bd6712",
   "metadata": {},
   "outputs": [
    {
     "data": {
      "text/plain": [
       "131"
      ]
     },
     "execution_count": 12,
     "metadata": {},
     "output_type": "execute_result"
    }
   ],
   "source": [
    "len(proc_interactors)"
   ]
  },
  {
   "cell_type": "code",
   "execution_count": 13,
   "id": "a66ac04d",
   "metadata": {},
   "outputs": [],
   "source": [
    "processome = list(map(lambda x: x.upper(), processome))"
   ]
  },
  {
   "cell_type": "code",
   "execution_count": 14,
   "id": "965f00ed",
   "metadata": {},
   "outputs": [],
   "source": [
    "# proc_interactors -> 131 genes\n",
    "# predicted_interactors -> 124 genes\n",
    "\n",
    "predicted_interactors = list(map(lambda x: x.upper(), proc_interactors))\n",
    "predicted_interactors = set(filter(lambda x: x not in processome, predicted_interactors))"
   ]
  },
  {
   "cell_type": "code",
   "execution_count": 15,
   "id": "182d4499",
   "metadata": {},
   "outputs": [
    {
     "data": {
      "text/plain": [
       "{'FAL1', 'NOP14', 'PRP43', 'UTP15', 'UTP5'}"
      ]
     },
     "execution_count": 15,
     "metadata": {},
     "output_type": "execute_result"
    }
   ],
   "source": [
    "set(predicted_interactors).intersection(set(processome_genes))\n",
    "# Tengo que evaluar si los 12 genes en total interactuan entre si de acuerdo con mul"
   ]
  },
  {
   "cell_type": "code",
   "execution_count": 16,
   "id": "a34d5adf",
   "metadata": {},
   "outputs": [],
   "source": [
    "dfE = pd.read_table('data/SGA_ExE.txt')\n",
    "dfN = pd.read_table('data/SGA_NxN.txt')\n",
    "dfEN = pd.read_table('data/SGA_ExN_NxE.txt')"
   ]
  },
  {
   "cell_type": "code",
   "execution_count": 17,
   "id": "194a9669",
   "metadata": {},
   "outputs": [],
   "source": [
    "df_global = pd.concat([dfE, dfN, dfEN])\n",
    "df_global.reset_index(inplace=True)"
   ]
  },
  {
   "cell_type": "code",
   "execution_count": 18,
   "id": "55e5b51f",
   "metadata": {},
   "outputs": [],
   "source": [
    "def get_genes(df):\n",
    "    g = list(df['Query allele name'])\n",
    "    g.extend(list(df['Array allele name']))\n",
    "    g = set(map(lambda x: x.split('-')[0].upper(), g))\n",
    "    return g"
   ]
  },
  {
   "cell_type": "code",
   "execution_count": null,
   "id": "6c837bc2",
   "metadata": {},
   "outputs": [],
   "source": []
  },
  {
   "cell_type": "code",
   "execution_count": 19,
   "id": "da73e2e1",
   "metadata": {},
   "outputs": [],
   "source": [
    "###\n",
    "e_EN = set(dfEN.loc[dfEN['Arraytype/Temp'].str.contains('DMA')]['Query allele name'])\n",
    "e_EN = e_EN.union(set(dfEN.loc[dfEN['Arraytype/Temp'].str.contains('TSA')]['Array allele name']))\n",
    "\n",
    "n_EN = set(dfEN.loc[dfEN['Arraytype/Temp'].str.contains('DMA')]['Array allele name'])\n",
    "n_EN = n_EN.union(set(dfEN.loc[dfEN['Arraytype/Temp'].str.contains('TSA')]['Query allele name']))"
   ]
  },
  {
   "cell_type": "code",
   "execution_count": 20,
   "id": "f0b21d53",
   "metadata": {},
   "outputs": [],
   "source": [
    "e_genes = get_genes(dfE)\n",
    "n_genes = get_genes(dfN)\n",
    "#en_genes = get_genes(dfEN)"
   ]
  },
  {
   "cell_type": "code",
   "execution_count": 21,
   "id": "0a3eb548",
   "metadata": {},
   "outputs": [],
   "source": [
    "e = set(e_genes.union(e_EN))\n",
    "n = set(n_genes.union(n_EN))"
   ]
  },
  {
   "cell_type": "code",
   "execution_count": 22,
   "id": "be51370e",
   "metadata": {},
   "outputs": [
    {
     "data": {
      "text/plain": [
       "(2154, 9328)"
      ]
     },
     "execution_count": 22,
     "metadata": {},
     "output_type": "execute_result"
    }
   ],
   "source": [
    "len(e), len(n)"
   ]
  },
  {
   "cell_type": "code",
   "execution_count": 25,
   "id": "6f7eb7d2",
   "metadata": {},
   "outputs": [],
   "source": [
    "#len(set(processome_genes).difference(all_genes))"
   ]
  },
  {
   "cell_type": "code",
   "execution_count": null,
   "id": "4d474b01",
   "metadata": {},
   "outputs": [],
   "source": [
    "df_global = df_global.dropna()            # Elimino filas con NaN\n",
    "dfE.reset_index(inplace=True, drop=True)\n",
    "##################################\n",
    "df_global['Mul'] = df_global['Double mutant fitness']-df_global['Query single mutant fitness (SMF)']*df_global['Array SMF']         # columna con interacciones mul\n",
    "df_global['Add'] = df_global['Double mutant fitness']-(df_global['Query single mutant fitness (SMF)']+df_global['Array SMF']-1)     # columna con interacciones add\n",
    "##################################\n",
    "std_mul = df_global['Mul'].std()           # Desviaciones estandar de cada columna\n",
    "std_add = df_global['Add'].std()\n",
    "##################################\n",
    "df_global['Query allele name'] = df_global['Query allele name'].map(lambda x: x.split('-')[0].upper())        # Cambio de nombre\n",
    "df_global['Array allele name'] = df_global['Array allele name'].map(lambda x: x.split('-')[0].upper())\n",
    "##################################\n",
    "df_global = df_global.loc[df_global['P-value']<0.05]             # Filtro P-value\n",
    "df_global.head()\n",
    "\n",
    "########################################################################\n",
    "\n",
    "def df_to_dictionary_splitted(csv, model, pvalue=1):\n",
    "    df = csv.loc[csv[ 'P-value' ]<pvalue]\n",
    "    df.reset_index(inplace=True, drop=True)\n",
    "    query_dic = {}\n",
    "    array_dic = {}\n",
    "    for i in range(len(df)):\n",
    "        if model == 'mul':\n",
    "            interaction = df.loc[i, 'Double mutant fitness']-df.loc[i, 'Query single mutant fitness (SMF)']*df.loc[i, 'Array SMF']\n",
    "        if model == 'add':\n",
    "            interaction = df.loc[i, 'Double mutant fitness']-(df.loc[i, 'Query single mutant fitness (SMF)']+df.loc[i, 'Array SMF']-1)\n",
    "        if not (np.isnan(interaction) or np.isinf(interaction)):\n",
    "            query = df.loc[i, 'Query allele name']\n",
    "            array = df.loc[i, 'Array allele name']\n",
    "            ########################################################\n",
    "            if query not in query_dic.keys():\n",
    "                query_dic[query]={}\n",
    "            if array not in query_dic[query].keys():\n",
    "                query_dic[query][array]=interaction\n",
    "            elif abs(interaction) > abs(query_dic[query][array]):\n",
    "                query_dic[query][array]=interaction\n",
    "            ########################################################\n",
    "            if array not in array_dic.keys():\n",
    "                array_dic[array]={}\n",
    "            if query not in array_dic[array].keys():\n",
    "                array_dic[array][query]=interaction\n",
    "            elif abs(interaction) > abs(array_dic[array][query]):\n",
    "                array_dic[array][query]=interaction\n",
    "            ########################################################\n",
    "    return query_dic, array_dic\n",
    "\n",
    "\n",
    "\n",
    "########################################################################\n",
    "\n",
    "\n",
    "q_global, a_global = df_to_dictionary_splitted(df_global, model='mul', pvalue=0.05)\n",
    "global_mul = join_pcc(q_global, a_global)\n",
    "\n",
    "q_global, a_global = df_to_dictionary_splitted(df_global, model='add', pvalue=0.05)\n",
    "global_add = join_pcc(q_global, a_global)\n",
    "\n",
    "########################################################################\n",
    "\n",
    "\n",
    "for gene in global_mul.keys():\n",
    "    global_mul[gene] = dict(filter(lambda x: abs(x[1])>2*std_mul, global_mul[gene].items()))\n",
    "\n",
    "for gene in global_add.keys():\n",
    "    global_add[gene] = dict(filter(lambda x: abs(x[1])>2*std_add, global_add[gene].items()))"
   ]
  },
  {
   "cell_type": "code",
   "execution_count": 1,
   "id": "8ec48a6e",
   "metadata": {},
   "outputs": [
    {
     "ename": "NameError",
     "evalue": "name 'processome' is not defined",
     "output_type": "error",
     "traceback": [
      "\u001b[0;31m---------------------------------------------------------------------------\u001b[0m",
      "\u001b[0;31mNameError\u001b[0m                                 Traceback (most recent call last)",
      "Input \u001b[0;32mIn [1]\u001b[0m, in \u001b[0;36m<cell line: 1>\u001b[0;34m()\u001b[0m\n\u001b[0;32m----> 1\u001b[0m processome \u001b[38;5;241m=\u001b[39m \u001b[38;5;28mlist\u001b[39m(\u001b[38;5;28mmap\u001b[39m(\u001b[38;5;28;01mlambda\u001b[39;00m x: x\u001b[38;5;241m.\u001b[39mupper(), \u001b[43mprocessome\u001b[49m))\n\u001b[1;32m      3\u001b[0m add_pred \u001b[38;5;241m=\u001b[39m represent_network(processome, global_add, dist\u001b[38;5;241m=\u001b[39m\u001b[38;5;241m1\u001b[39m)\n\u001b[1;32m      4\u001b[0m mul_pred \u001b[38;5;241m=\u001b[39m represent_network(processome, global_mul, dist\u001b[38;5;241m=\u001b[39m\u001b[38;5;241m1\u001b[39m)\n",
      "\u001b[0;31mNameError\u001b[0m: name 'processome' is not defined"
     ]
    }
   ],
   "source": [
    "processome = list(map(lambda x: x.upper(), processome))\n",
    "\n",
    "add_pred = represent_network(processome, global_add, dist=1)\n",
    "mul_pred = represent_network(processome, global_mul, dist=1)"
   ]
  },
  {
   "cell_type": "code",
   "execution_count": null,
   "id": "95075e16",
   "metadata": {},
   "outputs": [],
   "source": [
    "len(mul_pred.keys()), len(add_pred.keys())"
   ]
  },
  {
   "cell_type": "code",
   "execution_count": 37,
   "id": "0adf8f55",
   "metadata": {},
   "outputs": [],
   "source": [
    "add_genes = list(add_pred.keys())\n",
    "list_save(add_genes, 'Processome_interactors_global_add.txt')\n",
    "\n",
    "mul_genes = list(mul_pred.keys())\n",
    "list_save(mul_genes, 'Processome_interactors_global_mul.txt')"
   ]
  },
  {
   "cell_type": "code",
   "execution_count": 38,
   "id": "6f233e25",
   "metadata": {},
   "outputs": [
    {
     "name": "stdout",
     "output_type": "stream",
     "text": [
      "tail: error writing 'standard output': Broken pipe\r\n"
     ]
    }
   ],
   "source": [
    "!mkdir Processome/proc_interactions_global\n",
    "!rm Processome/proc_interactions_ExE/ # Comment this if a previous enrichment has been done\n",
    "!mv Processome_interactors_global_add.txt Processome/proc_interactions_global/\n",
    "!mv Processome_interactors_global_mul.txt Processome/proc_interactions_global/\n",
    "!./enrichment.sh Processome"
   ]
  },
  {
   "cell_type": "code",
   "execution_count": 40,
   "id": "3db1d75c",
   "metadata": {},
   "outputs": [],
   "source": [
    "results_add = pd.read_table('Processome/proc_interactions_global/results_parsed/Processome_interactors_global_add.txt_result.txt_parsed.txt')\n",
    "results_mul = pd.read_table('Processome/proc_interactions_global/results_parsed/Processome_interactors_global_mul.txt_result.txt_parsed.txt')"
   ]
  },
  {
   "cell_type": "code",
   "execution_count": 41,
   "id": "aa53db91",
   "metadata": {},
   "outputs": [
    {
     "data": {
      "text/html": [
       "<div>\n",
       "<style scoped>\n",
       "    .dataframe tbody tr th:only-of-type {\n",
       "        vertical-align: middle;\n",
       "    }\n",
       "\n",
       "    .dataframe tbody tr th {\n",
       "        vertical-align: top;\n",
       "    }\n",
       "\n",
       "    .dataframe thead th {\n",
       "        text-align: right;\n",
       "    }\n",
       "</style>\n",
       "<table border=\"1\" class=\"dataframe\">\n",
       "  <thead>\n",
       "    <tr style=\"text-align: right;\">\n",
       "      <th></th>\n",
       "      <th>name</th>\n",
       "      <th>ratio_in_study</th>\n",
       "      <th>ratio_in_pop</th>\n",
       "      <th>p_fdr_bh</th>\n",
       "      <th>study_items</th>\n",
       "    </tr>\n",
       "  </thead>\n",
       "  <tbody>\n",
       "    <tr>\n",
       "      <th>0</th>\n",
       "      <td>nucleic acid metabolic process</td>\n",
       "      <td>163/324</td>\n",
       "      <td>1451/6982</td>\n",
       "      <td>5.780000e-30</td>\n",
       "      <td>AAR2, ACT1, ARP4, ARP9, ASC1, BMS1, BRX1, BUD1...</td>\n",
       "    </tr>\n",
       "    <tr>\n",
       "      <th>1</th>\n",
       "      <td>nucleobase-containing compound metabolic process</td>\n",
       "      <td>166/324</td>\n",
       "      <td>1658/6982</td>\n",
       "      <td>1.560000e-24</td>\n",
       "      <td>AAH1, AAR2, ACT1, ARP4, ARP9, ASC1, BMS1, BRX1...</td>\n",
       "    </tr>\n",
       "    <tr>\n",
       "      <th>2</th>\n",
       "      <td>nitrogen compound metabolic process</td>\n",
       "      <td>238/324</td>\n",
       "      <td>3078/6982</td>\n",
       "      <td>1.560000e-24</td>\n",
       "      <td>AAH1, AAR2, ACT1, APC11, APC5, ARO1, ARP4, ARP...</td>\n",
       "    </tr>\n",
       "    <tr>\n",
       "      <th>3</th>\n",
       "      <td>cellular aromatic compound metabolic process</td>\n",
       "      <td>169/324</td>\n",
       "      <td>1744/6982</td>\n",
       "      <td>9.660000e-24</td>\n",
       "      <td>AAH1, AAR2, ACT1, ARO1, ARP4, ARP9, ASC1, BMS1...</td>\n",
       "    </tr>\n",
       "    <tr>\n",
       "      <th>4</th>\n",
       "      <td>RNA metabolic process</td>\n",
       "      <td>128/324</td>\n",
       "      <td>1089/6982</td>\n",
       "      <td>9.660000e-24</td>\n",
       "      <td>AAR2, ARP9, ASC1, BMS1, BRX1, BUD13, BUD21, BU...</td>\n",
       "    </tr>\n",
       "    <tr>\n",
       "      <th>5</th>\n",
       "      <td>heterocycle metabolic process</td>\n",
       "      <td>168/324</td>\n",
       "      <td>1759/6982</td>\n",
       "      <td>5.170000e-23</td>\n",
       "      <td>AAH1, AAR2, ACT1, ARP4, ARP9, ASC1, BMS1, BRX1...</td>\n",
       "    </tr>\n",
       "    <tr>\n",
       "      <th>6</th>\n",
       "      <td>macromolecule metabolic process</td>\n",
       "      <td>226/324</td>\n",
       "      <td>2896/6982</td>\n",
       "      <td>6.150000e-23</td>\n",
       "      <td>AAR2, ACT1, APC11, APC5, ARP4, ARP9, ARX1, ASC...</td>\n",
       "    </tr>\n",
       "    <tr>\n",
       "      <th>7</th>\n",
       "      <td>cellular component organization or biogenesis</td>\n",
       "      <td>183/324</td>\n",
       "      <td>2041/6982</td>\n",
       "      <td>8.170000e-23</td>\n",
       "      <td>AAR2, ACT1, AFG2, APC5, ARC15, ARP4, ARP9, ASA...</td>\n",
       "    </tr>\n",
       "    <tr>\n",
       "      <th>8</th>\n",
       "      <td>organic cyclic compound metabolic process</td>\n",
       "      <td>170/324</td>\n",
       "      <td>1813/6982</td>\n",
       "      <td>1.260000e-22</td>\n",
       "      <td>AAH1, AAR2, ACT1, ARO1, ARP4, ARP9, ASC1, BMS1...</td>\n",
       "    </tr>\n",
       "    <tr>\n",
       "      <th>9</th>\n",
       "      <td>cellular nitrogen compound metabolic process</td>\n",
       "      <td>184/324</td>\n",
       "      <td>2073/6982</td>\n",
       "      <td>2.120000e-22</td>\n",
       "      <td>AAH1, AAR2, ACT1, ARP4, ARP9, ASC1, BMS1, BRX1...</td>\n",
       "    </tr>\n",
       "    <tr>\n",
       "      <th>10</th>\n",
       "      <td>ribonucleoprotein complex biogenesis</td>\n",
       "      <td>54/324</td>\n",
       "      <td>224/6982</td>\n",
       "      <td>2.120000e-22</td>\n",
       "      <td>AFG2, BMS1, BRX1, BUD21, DBP3, DBP6, DBP9, DIM...</td>\n",
       "    </tr>\n",
       "    <tr>\n",
       "      <th>11</th>\n",
       "      <td>protein-containing complex organization</td>\n",
       "      <td>88/324</td>\n",
       "      <td>591/6982</td>\n",
       "      <td>5.300000e-22</td>\n",
       "      <td>AAR2, ARP4, ARP9, BRX1, BUB1, CDC123, CDC48, C...</td>\n",
       "    </tr>\n",
       "    <tr>\n",
       "      <th>12</th>\n",
       "      <td>RNA processing</td>\n",
       "      <td>95/324</td>\n",
       "      <td>683/6982</td>\n",
       "      <td>7.610000e-22</td>\n",
       "      <td>AAR2, BMS1, BRX1, BUD13, BUD21, BUD31, CEF1, C...</td>\n",
       "    </tr>\n",
       "    <tr>\n",
       "      <th>13</th>\n",
       "      <td>primary metabolic process</td>\n",
       "      <td>242/324</td>\n",
       "      <td>3324/6982</td>\n",
       "      <td>1.960000e-21</td>\n",
       "      <td>AAH1, AAR2, ACT1, ALG14, APC11, APC5, ARO1, AR...</td>\n",
       "    </tr>\n",
       "  </tbody>\n",
       "</table>\n",
       "</div>"
      ],
      "text/plain": [
       "                                                name ratio_in_study  \\\n",
       "0                     nucleic acid metabolic process        163/324   \n",
       "1   nucleobase-containing compound metabolic process        166/324   \n",
       "2                nitrogen compound metabolic process        238/324   \n",
       "3       cellular aromatic compound metabolic process        169/324   \n",
       "4                     RNA metabolic process                 128/324   \n",
       "5                     heterocycle metabolic process         168/324   \n",
       "6                    macromolecule metabolic process        226/324   \n",
       "7      cellular component organization or biogenesis        183/324   \n",
       "8          organic cyclic compound metabolic process        170/324   \n",
       "9       cellular nitrogen compound metabolic process        184/324   \n",
       "10              ribonucleoprotein complex biogenesis         54/324   \n",
       "11           protein-containing complex organization         88/324   \n",
       "12                    RNA processing                         95/324   \n",
       "13                    primary metabolic process             242/324   \n",
       "\n",
       "   ratio_in_pop      p_fdr_bh  \\\n",
       "0     1451/6982  5.780000e-30   \n",
       "1     1658/6982  1.560000e-24   \n",
       "2     3078/6982  1.560000e-24   \n",
       "3     1744/6982  9.660000e-24   \n",
       "4     1089/6982  9.660000e-24   \n",
       "5     1759/6982  5.170000e-23   \n",
       "6     2896/6982  6.150000e-23   \n",
       "7     2041/6982  8.170000e-23   \n",
       "8     1813/6982  1.260000e-22   \n",
       "9     2073/6982  2.120000e-22   \n",
       "10     224/6982  2.120000e-22   \n",
       "11     591/6982  5.300000e-22   \n",
       "12     683/6982  7.610000e-22   \n",
       "13    3324/6982  1.960000e-21   \n",
       "\n",
       "                                          study_items  \n",
       "0   AAR2, ACT1, ARP4, ARP9, ASC1, BMS1, BRX1, BUD1...  \n",
       "1   AAH1, AAR2, ACT1, ARP4, ARP9, ASC1, BMS1, BRX1...  \n",
       "2   AAH1, AAR2, ACT1, APC11, APC5, ARO1, ARP4, ARP...  \n",
       "3   AAH1, AAR2, ACT1, ARO1, ARP4, ARP9, ASC1, BMS1...  \n",
       "4   AAR2, ARP9, ASC1, BMS1, BRX1, BUD13, BUD21, BU...  \n",
       "5   AAH1, AAR2, ACT1, ARP4, ARP9, ASC1, BMS1, BRX1...  \n",
       "6   AAR2, ACT1, APC11, APC5, ARP4, ARP9, ARX1, ASC...  \n",
       "7   AAR2, ACT1, AFG2, APC5, ARC15, ARP4, ARP9, ASA...  \n",
       "8   AAH1, AAR2, ACT1, ARO1, ARP4, ARP9, ASC1, BMS1...  \n",
       "9   AAH1, AAR2, ACT1, ARP4, ARP9, ASC1, BMS1, BRX1...  \n",
       "10  AFG2, BMS1, BRX1, BUD21, DBP3, DBP6, DBP9, DIM...  \n",
       "11  AAR2, ARP4, ARP9, BRX1, BUB1, CDC123, CDC48, C...  \n",
       "12  AAR2, BMS1, BRX1, BUD13, BUD21, BUD31, CEF1, C...  \n",
       "13  AAH1, AAR2, ACT1, ALG14, APC11, APC5, ARO1, AR...  "
      ]
     },
     "execution_count": 41,
     "metadata": {},
     "output_type": "execute_result"
    }
   ],
   "source": [
    "results_add = results_add[['name', 'ratio_in_study', 'ratio_in_pop', 'p_fdr_bh', 'study_items']] #Incluyendo a los que ya tenia\n",
    "results_add"
   ]
  },
  {
   "cell_type": "code",
   "execution_count": 42,
   "id": "ddc0f583",
   "metadata": {},
   "outputs": [
    {
     "data": {
      "text/html": [
       "<div>\n",
       "<style scoped>\n",
       "    .dataframe tbody tr th:only-of-type {\n",
       "        vertical-align: middle;\n",
       "    }\n",
       "\n",
       "    .dataframe tbody tr th {\n",
       "        vertical-align: top;\n",
       "    }\n",
       "\n",
       "    .dataframe thead th {\n",
       "        text-align: right;\n",
       "    }\n",
       "</style>\n",
       "<table border=\"1\" class=\"dataframe\">\n",
       "  <thead>\n",
       "    <tr style=\"text-align: right;\">\n",
       "      <th></th>\n",
       "      <th>name</th>\n",
       "      <th>ratio_in_study</th>\n",
       "      <th>ratio_in_pop</th>\n",
       "      <th>p_fdr_bh</th>\n",
       "      <th>study_items</th>\n",
       "    </tr>\n",
       "  </thead>\n",
       "  <tbody>\n",
       "    <tr>\n",
       "      <th>0</th>\n",
       "      <td>ribosome biogenesis</td>\n",
       "      <td>21/29</td>\n",
       "      <td>194/6982</td>\n",
       "      <td>1.260000e-23</td>\n",
       "      <td>BMS1, BUD21, EMG1, FCF1, HAS1, IMP4, MAK5, MPP...</td>\n",
       "    </tr>\n",
       "    <tr>\n",
       "      <th>1</th>\n",
       "      <td>ribonucleoprotein complex biogenesis</td>\n",
       "      <td>21/29</td>\n",
       "      <td>224/6982</td>\n",
       "      <td>1.460000e-22</td>\n",
       "      <td>BMS1, BUD21, EMG1, FCF1, HAS1, IMP4, MAK5, MPP...</td>\n",
       "    </tr>\n",
       "    <tr>\n",
       "      <th>2</th>\n",
       "      <td>rRNA metabolic process</td>\n",
       "      <td>24/29</td>\n",
       "      <td>417/6982</td>\n",
       "      <td>3.430000e-22</td>\n",
       "      <td>BMS1, BUD21, DOM34, EMG1, FCF1, HAS1, HBS1, IM...</td>\n",
       "    </tr>\n",
       "    <tr>\n",
       "      <th>3</th>\n",
       "      <td>cellular component biogenesis</td>\n",
       "      <td>21/29</td>\n",
       "      <td>250/6982</td>\n",
       "      <td>7.890000e-22</td>\n",
       "      <td>BMS1, BUD21, EMG1, FCF1, HAS1, IMP4, MAK5, MPP...</td>\n",
       "    </tr>\n",
       "    <tr>\n",
       "      <th>4</th>\n",
       "      <td>rRNA processing</td>\n",
       "      <td>21/29</td>\n",
       "      <td>363/6982</td>\n",
       "      <td>1.770000e-18</td>\n",
       "      <td>BMS1, BUD21, EMG1, FCF1, HAS1, IMP4, MAK5, MPP...</td>\n",
       "    </tr>\n",
       "    <tr>\n",
       "      <th>5</th>\n",
       "      <td>ncRNA metabolic process</td>\n",
       "      <td>24/29</td>\n",
       "      <td>611/6982</td>\n",
       "      <td>1.770000e-18</td>\n",
       "      <td>BMS1, BUD21, DOM34, EMG1, FCF1, HAS1, HBS1, IM...</td>\n",
       "    </tr>\n",
       "    <tr>\n",
       "      <th>6</th>\n",
       "      <td>endonucleolytic cleavage to generate mature 5'...</td>\n",
       "      <td>11/29</td>\n",
       "      <td>37/6982</td>\n",
       "      <td>4.230000e-16</td>\n",
       "      <td>BMS1, BUD21, EMG1, FCF1, MPP10, NOC4, NOP14, R...</td>\n",
       "    </tr>\n",
       "    <tr>\n",
       "      <th>7</th>\n",
       "      <td>ncRNA processing</td>\n",
       "      <td>21/29</td>\n",
       "      <td>494/6982</td>\n",
       "      <td>7.470000e-16</td>\n",
       "      <td>BMS1, BUD21, EMG1, FCF1, HAS1, IMP4, MAK5, MPP...</td>\n",
       "    </tr>\n",
       "    <tr>\n",
       "      <th>8</th>\n",
       "      <td>rRNA 5'-end processing</td>\n",
       "      <td>11/29</td>\n",
       "      <td>40/6982</td>\n",
       "      <td>8.830000e-16</td>\n",
       "      <td>BMS1, BUD21, EMG1, FCF1, MPP10, NOC4, NOP14, R...</td>\n",
       "    </tr>\n",
       "    <tr>\n",
       "      <th>9</th>\n",
       "      <td>RNA metabolic process</td>\n",
       "      <td>26/29</td>\n",
       "      <td>1089/6982</td>\n",
       "      <td>9.350000e-16</td>\n",
       "      <td>BMS1, BUD21, DOM34, EMG1, FCF1, HAS1, HBS1, IM...</td>\n",
       "    </tr>\n",
       "    <tr>\n",
       "      <th>10</th>\n",
       "      <td>RNA processing</td>\n",
       "      <td>22/29</td>\n",
       "      <td>683/6982</td>\n",
       "      <td>1.680000e-14</td>\n",
       "      <td>BMS1, BUD21, EMG1, FCF1, HAS1, IMP4, MAK5, MPP...</td>\n",
       "    </tr>\n",
       "    <tr>\n",
       "      <th>11</th>\n",
       "      <td>endonucleolytic cleavage in 5'-ETS of tricistr...</td>\n",
       "      <td>10/29</td>\n",
       "      <td>35/6982</td>\n",
       "      <td>1.940000e-14</td>\n",
       "      <td>BMS1, EMG1, FCF1, MPP10, NOC4, NOP14, RCL1, RO...</td>\n",
       "    </tr>\n",
       "    <tr>\n",
       "      <th>12</th>\n",
       "      <td>ncRNA 5'-end processing</td>\n",
       "      <td>11/29</td>\n",
       "      <td>54/6982</td>\n",
       "      <td>2.450000e-14</td>\n",
       "      <td>BMS1, BUD21, EMG1, FCF1, MPP10, NOC4, NOP14, R...</td>\n",
       "    </tr>\n",
       "    <tr>\n",
       "      <th>13</th>\n",
       "      <td>RNA 5'-end processing</td>\n",
       "      <td>11/29</td>\n",
       "      <td>55/6982</td>\n",
       "      <td>2.840000e-14</td>\n",
       "      <td>BMS1, BUD21, EMG1, FCF1, MPP10, NOC4, NOP14, R...</td>\n",
       "    </tr>\n",
       "  </tbody>\n",
       "</table>\n",
       "</div>"
      ],
      "text/plain": [
       "                                                 name ratio_in_study  \\\n",
       "0                      ribosome biogenesis                     21/29   \n",
       "1                ribonucleoprotein complex biogenesis          21/29   \n",
       "2                      rRNA metabolic process                  24/29   \n",
       "3                      cellular component biogenesis           21/29   \n",
       "4                      rRNA processing                         21/29   \n",
       "5                      ncRNA metabolic process                 24/29   \n",
       "6   endonucleolytic cleavage to generate mature 5'...          11/29   \n",
       "7                      ncRNA processing                        21/29   \n",
       "8                      rRNA 5'-end processing                  11/29   \n",
       "9                      RNA metabolic process                   26/29   \n",
       "10                     RNA processing                          22/29   \n",
       "11  endonucleolytic cleavage in 5'-ETS of tricistr...          10/29   \n",
       "12                     ncRNA 5'-end processing                 11/29   \n",
       "13                     RNA 5'-end processing                   11/29   \n",
       "\n",
       "   ratio_in_pop      p_fdr_bh  \\\n",
       "0      194/6982  1.260000e-23   \n",
       "1      224/6982  1.460000e-22   \n",
       "2      417/6982  3.430000e-22   \n",
       "3      250/6982  7.890000e-22   \n",
       "4      363/6982  1.770000e-18   \n",
       "5      611/6982  1.770000e-18   \n",
       "6       37/6982  4.230000e-16   \n",
       "7      494/6982  7.470000e-16   \n",
       "8       40/6982  8.830000e-16   \n",
       "9     1089/6982  9.350000e-16   \n",
       "10     683/6982  1.680000e-14   \n",
       "11      35/6982  1.940000e-14   \n",
       "12      54/6982  2.450000e-14   \n",
       "13      55/6982  2.840000e-14   \n",
       "\n",
       "                                          study_items  \n",
       "0   BMS1, BUD21, EMG1, FCF1, HAS1, IMP4, MAK5, MPP...  \n",
       "1   BMS1, BUD21, EMG1, FCF1, HAS1, IMP4, MAK5, MPP...  \n",
       "2   BMS1, BUD21, DOM34, EMG1, FCF1, HAS1, HBS1, IM...  \n",
       "3   BMS1, BUD21, EMG1, FCF1, HAS1, IMP4, MAK5, MPP...  \n",
       "4   BMS1, BUD21, EMG1, FCF1, HAS1, IMP4, MAK5, MPP...  \n",
       "5   BMS1, BUD21, DOM34, EMG1, FCF1, HAS1, HBS1, IM...  \n",
       "6   BMS1, BUD21, EMG1, FCF1, MPP10, NOC4, NOP14, R...  \n",
       "7   BMS1, BUD21, EMG1, FCF1, HAS1, IMP4, MAK5, MPP...  \n",
       "8   BMS1, BUD21, EMG1, FCF1, MPP10, NOC4, NOP14, R...  \n",
       "9   BMS1, BUD21, DOM34, EMG1, FCF1, HAS1, HBS1, IM...  \n",
       "10  BMS1, BUD21, EMG1, FCF1, HAS1, IMP4, MAK5, MPP...  \n",
       "11  BMS1, EMG1, FCF1, MPP10, NOC4, NOP14, RCL1, RO...  \n",
       "12  BMS1, BUD21, EMG1, FCF1, MPP10, NOC4, NOP14, R...  \n",
       "13  BMS1, BUD21, EMG1, FCF1, MPP10, NOC4, NOP14, R...  "
      ]
     },
     "execution_count": 42,
     "metadata": {},
     "output_type": "execute_result"
    }
   ],
   "source": [
    "results_mul = results_mul[['name', 'ratio_in_study', 'ratio_in_pop', 'p_fdr_bh', 'study_items']] #Incluyendo a los que ya tenia\n",
    "results_mul"
   ]
  },
  {
   "cell_type": "code",
   "execution_count": 154,
   "id": "2c5058ee",
   "metadata": {},
   "outputs": [
    {
     "data": {
      "text/html": [
       "<div>\n",
       "<style scoped>\n",
       "    .dataframe tbody tr th:only-of-type {\n",
       "        vertical-align: middle;\n",
       "    }\n",
       "\n",
       "    .dataframe tbody tr th {\n",
       "        vertical-align: top;\n",
       "    }\n",
       "\n",
       "    .dataframe thead th {\n",
       "        text-align: right;\n",
       "    }\n",
       "</style>\n",
       "<table border=\"1\" class=\"dataframe\">\n",
       "  <thead>\n",
       "    <tr style=\"text-align: right;\">\n",
       "      <th></th>\n",
       "      <th>name</th>\n",
       "      <th>ratio_in_study</th>\n",
       "      <th>ratio_in_pop</th>\n",
       "      <th>p_fdr_bh</th>\n",
       "      <th>study_items</th>\n",
       "    </tr>\n",
       "  </thead>\n",
       "  <tbody>\n",
       "    <tr>\n",
       "      <th>0</th>\n",
       "      <td>nucleic acid metabolic process</td>\n",
       "      <td>0.503086</td>\n",
       "      <td>1451/6982</td>\n",
       "      <td>5.780000e-30</td>\n",
       "      <td>AAR2, ACT1, ARP4, ARP9, ASC1, BMS1, BRX1, BUD1...</td>\n",
       "    </tr>\n",
       "    <tr>\n",
       "      <th>1</th>\n",
       "      <td>nucleobase-containing compound metabolic process</td>\n",
       "      <td>0.512346</td>\n",
       "      <td>1658/6982</td>\n",
       "      <td>1.560000e-24</td>\n",
       "      <td>AAH1, AAR2, ACT1, ARP4, ARP9, ASC1, BMS1, BRX1...</td>\n",
       "    </tr>\n",
       "    <tr>\n",
       "      <th>2</th>\n",
       "      <td>nitrogen compound metabolic process</td>\n",
       "      <td>0.734568</td>\n",
       "      <td>3078/6982</td>\n",
       "      <td>1.560000e-24</td>\n",
       "      <td>AAH1, AAR2, ACT1, APC11, APC5, ARO1, ARP4, ARP...</td>\n",
       "    </tr>\n",
       "    <tr>\n",
       "      <th>3</th>\n",
       "      <td>cellular aromatic compound metabolic process</td>\n",
       "      <td>0.521605</td>\n",
       "      <td>1744/6982</td>\n",
       "      <td>9.660000e-24</td>\n",
       "      <td>AAH1, AAR2, ACT1, ARO1, ARP4, ARP9, ASC1, BMS1...</td>\n",
       "    </tr>\n",
       "    <tr>\n",
       "      <th>4</th>\n",
       "      <td>RNA metabolic process</td>\n",
       "      <td>0.395062</td>\n",
       "      <td>1089/6982</td>\n",
       "      <td>9.660000e-24</td>\n",
       "      <td>AAR2, ARP9, ASC1, BMS1, BRX1, BUD13, BUD21, BU...</td>\n",
       "    </tr>\n",
       "    <tr>\n",
       "      <th>5</th>\n",
       "      <td>heterocycle metabolic process</td>\n",
       "      <td>0.518519</td>\n",
       "      <td>1759/6982</td>\n",
       "      <td>5.170000e-23</td>\n",
       "      <td>AAH1, AAR2, ACT1, ARP4, ARP9, ASC1, BMS1, BRX1...</td>\n",
       "    </tr>\n",
       "    <tr>\n",
       "      <th>6</th>\n",
       "      <td>macromolecule metabolic process</td>\n",
       "      <td>0.697531</td>\n",
       "      <td>2896/6982</td>\n",
       "      <td>6.150000e-23</td>\n",
       "      <td>AAR2, ACT1, APC11, APC5, ARP4, ARP9, ARX1, ASC...</td>\n",
       "    </tr>\n",
       "    <tr>\n",
       "      <th>7</th>\n",
       "      <td>cellular component organization or biogenesis</td>\n",
       "      <td>0.564815</td>\n",
       "      <td>2041/6982</td>\n",
       "      <td>8.170000e-23</td>\n",
       "      <td>AAR2, ACT1, AFG2, APC5, ARC15, ARP4, ARP9, ASA...</td>\n",
       "    </tr>\n",
       "    <tr>\n",
       "      <th>8</th>\n",
       "      <td>organic cyclic compound metabolic process</td>\n",
       "      <td>0.524691</td>\n",
       "      <td>1813/6982</td>\n",
       "      <td>1.260000e-22</td>\n",
       "      <td>AAH1, AAR2, ACT1, ARO1, ARP4, ARP9, ASC1, BMS1...</td>\n",
       "    </tr>\n",
       "    <tr>\n",
       "      <th>9</th>\n",
       "      <td>cellular nitrogen compound metabolic process</td>\n",
       "      <td>0.567901</td>\n",
       "      <td>2073/6982</td>\n",
       "      <td>2.120000e-22</td>\n",
       "      <td>AAH1, AAR2, ACT1, ARP4, ARP9, ASC1, BMS1, BRX1...</td>\n",
       "    </tr>\n",
       "    <tr>\n",
       "      <th>10</th>\n",
       "      <td>ribonucleoprotein complex biogenesis</td>\n",
       "      <td>0.166667</td>\n",
       "      <td>224/6982</td>\n",
       "      <td>2.120000e-22</td>\n",
       "      <td>AFG2, BMS1, BRX1, BUD21, DBP3, DBP6, DBP9, DIM...</td>\n",
       "    </tr>\n",
       "    <tr>\n",
       "      <th>11</th>\n",
       "      <td>protein-containing complex organization</td>\n",
       "      <td>0.271605</td>\n",
       "      <td>591/6982</td>\n",
       "      <td>5.300000e-22</td>\n",
       "      <td>AAR2, ARP4, ARP9, BRX1, BUB1, CDC123, CDC48, C...</td>\n",
       "    </tr>\n",
       "    <tr>\n",
       "      <th>12</th>\n",
       "      <td>RNA processing</td>\n",
       "      <td>0.293210</td>\n",
       "      <td>683/6982</td>\n",
       "      <td>7.610000e-22</td>\n",
       "      <td>AAR2, BMS1, BRX1, BUD13, BUD21, BUD31, CEF1, C...</td>\n",
       "    </tr>\n",
       "    <tr>\n",
       "      <th>13</th>\n",
       "      <td>primary metabolic process</td>\n",
       "      <td>0.746914</td>\n",
       "      <td>3324/6982</td>\n",
       "      <td>1.960000e-21</td>\n",
       "      <td>AAH1, AAR2, ACT1, ALG14, APC11, APC5, ARO1, AR...</td>\n",
       "    </tr>\n",
       "  </tbody>\n",
       "</table>\n",
       "</div>"
      ],
      "text/plain": [
       "                                                name  ratio_in_study  \\\n",
       "0                     nucleic acid metabolic process        0.503086   \n",
       "1   nucleobase-containing compound metabolic process        0.512346   \n",
       "2                nitrogen compound metabolic process        0.734568   \n",
       "3       cellular aromatic compound metabolic process        0.521605   \n",
       "4                     RNA metabolic process                 0.395062   \n",
       "5                     heterocycle metabolic process         0.518519   \n",
       "6                    macromolecule metabolic process        0.697531   \n",
       "7      cellular component organization or biogenesis        0.564815   \n",
       "8          organic cyclic compound metabolic process        0.524691   \n",
       "9       cellular nitrogen compound metabolic process        0.567901   \n",
       "10              ribonucleoprotein complex biogenesis        0.166667   \n",
       "11           protein-containing complex organization        0.271605   \n",
       "12                    RNA processing                        0.293210   \n",
       "13                    primary metabolic process             0.746914   \n",
       "\n",
       "   ratio_in_pop      p_fdr_bh  \\\n",
       "0     1451/6982  5.780000e-30   \n",
       "1     1658/6982  1.560000e-24   \n",
       "2     3078/6982  1.560000e-24   \n",
       "3     1744/6982  9.660000e-24   \n",
       "4     1089/6982  9.660000e-24   \n",
       "5     1759/6982  5.170000e-23   \n",
       "6     2896/6982  6.150000e-23   \n",
       "7     2041/6982  8.170000e-23   \n",
       "8     1813/6982  1.260000e-22   \n",
       "9     2073/6982  2.120000e-22   \n",
       "10     224/6982  2.120000e-22   \n",
       "11     591/6982  5.300000e-22   \n",
       "12     683/6982  7.610000e-22   \n",
       "13    3324/6982  1.960000e-21   \n",
       "\n",
       "                                          study_items  \n",
       "0   AAR2, ACT1, ARP4, ARP9, ASC1, BMS1, BRX1, BUD1...  \n",
       "1   AAH1, AAR2, ACT1, ARP4, ARP9, ASC1, BMS1, BRX1...  \n",
       "2   AAH1, AAR2, ACT1, APC11, APC5, ARO1, ARP4, ARP...  \n",
       "3   AAH1, AAR2, ACT1, ARO1, ARP4, ARP9, ASC1, BMS1...  \n",
       "4   AAR2, ARP9, ASC1, BMS1, BRX1, BUD13, BUD21, BU...  \n",
       "5   AAH1, AAR2, ACT1, ARP4, ARP9, ASC1, BMS1, BRX1...  \n",
       "6   AAR2, ACT1, APC11, APC5, ARP4, ARP9, ARX1, ASC...  \n",
       "7   AAR2, ACT1, AFG2, APC5, ARC15, ARP4, ARP9, ASA...  \n",
       "8   AAH1, AAR2, ACT1, ARO1, ARP4, ARP9, ASC1, BMS1...  \n",
       "9   AAH1, AAR2, ACT1, ARP4, ARP9, ASC1, BMS1, BRX1...  \n",
       "10  AFG2, BMS1, BRX1, BUD21, DBP3, DBP6, DBP9, DIM...  \n",
       "11  AAR2, ARP4, ARP9, BRX1, BUB1, CDC123, CDC48, C...  \n",
       "12  AAR2, BMS1, BRX1, BUD13, BUD21, BUD31, CEF1, C...  \n",
       "13  AAH1, AAR2, ACT1, ALG14, APC11, APC5, ARO1, AR...  "
      ]
     },
     "execution_count": 154,
     "metadata": {},
     "output_type": "execute_result"
    }
   ],
   "source": [
    "d = results['ratio_in_study'].str.split('/', expand=True).astype(int)\n",
    "results['ratio_in_study'] = d[0]/d[1]\n",
    "results"
   ]
  },
  {
   "cell_type": "code",
   "execution_count": 46,
   "id": "9ad02c76",
   "metadata": {},
   "outputs": [
    {
     "data": {
      "text/plain": [
       "['ROK1', 'RRP7', 'MPP10', 'NOC4', 'IMP4', 'RCL1', 'BMS1']"
      ]
     },
     "execution_count": 46,
     "metadata": {},
     "output_type": "execute_result"
    }
   ],
   "source": [
    "processome"
   ]
  },
  {
   "cell_type": "code",
   "execution_count": null,
   "id": "cd43a798",
   "metadata": {},
   "outputs": [],
   "source": []
  },
  {
   "cell_type": "code",
   "execution_count": 54,
   "id": "f92d0902",
   "metadata": {},
   "outputs": [
    {
     "name": "stdout",
     "output_type": "stream",
     "text": [
      "En total 20 genes del procesoma, incorporo 13 nuevos\n"
     ]
    }
   ],
   "source": [
    "all_proc_add = set(add_pred.keys()).intersection(set(processome_genes))\n",
    "new_proc_add = all_proc_add.difference(processome)\n",
    "print(f'En total {len(all_proc_add)} genes del procesoma, incorporo {len(new_proc_add)} nuevos')"
   ]
  },
  {
   "cell_type": "code",
   "execution_count": 55,
   "id": "66c5c597",
   "metadata": {},
   "outputs": [
    {
     "name": "stdout",
     "output_type": "stream",
     "text": [
      "En total 17 genes del procesoma, incorporo 10 nuevos\n"
     ]
    }
   ],
   "source": [
    "all_proc_mul = set(mul_pred.keys()).intersection(set(processome_genes))\n",
    "new_proc_mul = all_proc_mul.difference(processome)\n",
    "print(f'En total {len(all_proc_mul)} genes del procesoma, incorporo {len(new_proc_mul)} nuevos')"
   ]
  },
  {
   "cell_type": "code",
   "execution_count": 125,
   "id": "8f990eef",
   "metadata": {},
   "outputs": [
    {
     "data": {
      "text/plain": [
       "{'BUD21', 'EMG1', 'MRT4', 'NOP14'}"
      ]
     },
     "execution_count": 125,
     "metadata": {},
     "output_type": "execute_result"
    }
   ],
   "source": [
    "new_proc_add.intersection(new_proc_mul)"
   ]
  },
  {
   "cell_type": "code",
   "execution_count": 126,
   "id": "e6d3eb88",
   "metadata": {},
   "outputs": [
    {
     "data": {
      "text/plain": [
       "{'FCF1', 'HAS1', 'NOP6', 'RRP5', 'UTP30', 'UTP6'}"
      ]
     },
     "execution_count": 126,
     "metadata": {},
     "output_type": "execute_result"
    }
   ],
   "source": [
    "new_proc_mul.difference(new_proc_add)"
   ]
  },
  {
   "cell_type": "code",
   "execution_count": 127,
   "id": "423299d6",
   "metadata": {},
   "outputs": [
    {
     "data": {
      "image/png": "[encoded data removed]",
      "text/plain": [
       "<Figure size 720x720 with 1 Axes>"
      ]
     },
     "metadata": {
      "needs_background": "light"
     },
     "output_type": "display_data"
    }
   ],
   "source": [
    "compare_dictionaries(mul_pred, add_pred, xaxis='Mul network', yaxis='Add network')"
   ]
  },
  {
   "cell_type": "code",
   "execution_count": null,
   "id": "d0b62a9a",
   "metadata": {},
   "outputs": [],
   "source": []
  },
  {
   "cell_type": "code",
   "execution_count": null,
   "id": "da248e6f",
   "metadata": {},
   "outputs": [],
   "source": []
  },
  {
   "cell_type": "code",
   "execution_count": null,
   "id": "6ebe9713",
   "metadata": {},
   "outputs": [],
   "source": []
  },
  {
   "cell_type": "code",
   "execution_count": null,
   "id": "79d71ec0",
   "metadata": {},
   "outputs": [],
   "source": []
  },
  {
   "cell_type": "code",
   "execution_count": null,
   "id": "3c9a0f5f",
   "metadata": {},
   "outputs": [],
   "source": []
  },
  {
   "cell_type": "code",
   "execution_count": null,
   "id": "7e1a51e2",
   "metadata": {},
   "outputs": [],
   "source": []
  },
  {
   "cell_type": "code",
   "execution_count": null,
   "id": "a1e23d05",
   "metadata": {},
   "outputs": [],
   "source": []
  },
  {
   "cell_type": "code",
   "execution_count": null,
   "id": "f5369933",
   "metadata": {},
   "outputs": [],
   "source": []
  },
  {
   "cell_type": "code",
   "execution_count": null,
   "id": "152cbe51",
   "metadata": {},
   "outputs": [],
   "source": []
  },
  {
   "cell_type": "code",
   "execution_count": null,
   "id": "61dce8dd",
   "metadata": {},
   "outputs": [],
   "source": []
  },
  {
   "cell_type": "code",
   "execution_count": null,
   "id": "c4cb7ad7",
   "metadata": {},
   "outputs": [],
   "source": []
  },
  {
   "cell_type": "code",
   "execution_count": null,
   "id": "5a300541",
   "metadata": {},
   "outputs": [],
   "source": []
  },
  {
   "cell_type": "code",
   "execution_count": null,
   "id": "ef0d8c2b",
   "metadata": {},
   "outputs": [],
   "source": []
  },
  {
   "cell_type": "code",
   "execution_count": null,
   "id": "93abdd83",
   "metadata": {},
   "outputs": [],
   "source": []
  },
  {
   "cell_type": "code",
   "execution_count": null,
   "id": "3bbcd517",
   "metadata": {},
   "outputs": [],
   "source": []
  },
  {
   "cell_type": "code",
   "execution_count": null,
   "id": "88abe2c2",
   "metadata": {},
   "outputs": [],
   "source": []
  },
  {
   "cell_type": "code",
   "execution_count": null,
   "id": "96edd316",
   "metadata": {},
   "outputs": [],
   "source": []
  },
  {
   "cell_type": "markdown",
   "id": "204bcea9",
   "metadata": {},
   "source": [
    "## Complejo III de mitocondria"
   ]
  },
  {
   "cell_type": "code",
   "execution_count": 27,
   "id": "572f5ce2",
   "metadata": {},
   "outputs": [],
   "source": [
    "complex_III =  ['cytb',\n",
    "                'qcr1',\n",
    "                'cyt1',\n",
    "                'qcr10',\n",
    "                'qcr2',\n",
    "                'qcr6',\n",
    "                'qcr7',\n",
    "                'qcr8',\n",
    "                'qcr9',\n",
    "                'rip1']"
   ]
  },
  {
   "cell_type": "code",
   "execution_count": 28,
   "id": "8819541e",
   "metadata": {},
   "outputs": [],
   "source": [
    "def buscar(df, gene):\n",
    "    df_ = df.loc[(df['Query allele name'].str.contains(gene)) | (df['Array allele name'].str.contains(gene))]\n",
    "    if len(df_)==0:\n",
    "        print(f'El gen {gene} no aparece')"
   ]
  },
  {
   "cell_type": "code",
   "execution_count": 29,
   "id": "7615694d",
   "metadata": {},
   "outputs": [
    {
     "name": "stdout",
     "output_type": "stream",
     "text": [
      "El gen cytb no aparece\n"
     ]
    }
   ],
   "source": [
    "for g in complex_III:\n",
    "    buscar(dfN, g)\n",
    "# El gen cytb no aparece en dfN"
   ]
  },
  {
   "cell_type": "code",
   "execution_count": 33,
   "id": "c7a8e001",
   "metadata": {},
   "outputs": [],
   "source": [
    "dfN = pd.read_table('data/SGA_NxN.txt')\n",
    "dfN = dfN.dropna()            # Elimino filas con NaN\n",
    "dfN.reset_index(inplace=True, drop=True)\n",
    "##################################\n",
    "dfN['Mul'] = dfN['Double mutant fitness']-dfN['Query single mutant fitness (SMF)']*dfN['Array SMF']         # columna con interacciones mul\n",
    "dfN['Add'] = dfN['Double mutant fitness']-(dfN['Query single mutant fitness (SMF)']+dfN['Array SMF']-1)     # columna con interacciones add\n",
    "##################################\n",
    "std_mul = dfN['Mul'].std()           # Desviaciones estandar de cada columna\n",
    "std_add = dfN['Add'].std()\n",
    "##################################\n",
    "dfN['Query allele name'] = dfN['Query allele name'].map(lambda x: x.split('-')[0])        # Cambio de nombre\n",
    "dfN['Array allele name'] = dfN['Array allele name'].map(lambda x: x.split('-')[0])\n",
    "##################################\n",
    "dfN = dfN.loc[dfN['P-value']<0.05]             # Filtro P-value\n",
    "\n",
    "\n",
    "########################################################################\n",
    "\n",
    "qN, aN = df_to_dictionary_splitted(dfN, model='mul', pvalue=0.05)\n",
    "NxN_mul = join_pcc(qN, aN)\n",
    "\n",
    "qN, aN = df_to_dictionary_splitted(dfN, model='add', pvalue=0.05)\n",
    "NxN_add = join_pcc(qN, aN)\n",
    "\n",
    "########################################################################\n",
    "\n",
    "for gene in NxN_mul.keys():\n",
    "    NxN_mul[gene] = dict(filter(lambda x: abs(x[1])>2*std_mul, NxN_mul[gene].items()))\n",
    "\n",
    "for gene in NxN_add.keys():\n",
    "    NxN_add[gene] = dict(filter(lambda x: abs(x[1])>2*std_add, NxN_add[gene].items()))"
   ]
  },
  {
   "cell_type": "code",
   "execution_count": 49,
   "id": "d40c2d3f",
   "metadata": {},
   "outputs": [],
   "source": [
    "dist0_mul = represent_network(gene_list=complex_III, dic=NxN_mul, dist=0)\n",
    "dist0_add = represent_network(gene_list=complex_III, dic=NxN_add, dist=0)\n",
    "\n",
    "dist1_mul = represent_network(gene_list=complex_III, dic=NxN_mul, dist=1)\n",
    "dist1_add = represent_network(gene_list=complex_III, dic=NxN_add, dist=1)"
   ]
  },
  {
   "cell_type": "code",
   "execution_count": 53,
   "id": "32deb0fa",
   "metadata": {},
   "outputs": [
    {
     "data": {
      "text/plain": [
       "(7, 7, 341, 303)"
      ]
     },
     "execution_count": 53,
     "metadata": {},
     "output_type": "execute_result"
    }
   ],
   "source": [
    "len(dist0_mul), len(dist0_add), len(dist1_mul), len(dist1_add) # Similar result for both models"
   ]
  },
  {
   "cell_type": "code",
   "execution_count": 58,
   "id": "1a38e98f",
   "metadata": {},
   "outputs": [],
   "source": [
    "to_table(dist1_mul, path='Complex_III_mul.csv', marked=complex_III)\n",
    "to_table(dist1_add, path='Complex_III_add.csv', marked=complex_III)"
   ]
  },
  {
   "cell_type": "code",
   "execution_count": null,
   "id": "9c922acb",
   "metadata": {},
   "outputs": [],
   "source": []
  },
  {
   "cell_type": "code",
   "execution_count": null,
   "id": "9d3fb87a",
   "metadata": {},
   "outputs": [],
   "source": []
  },
  {
   "cell_type": "code",
   "execution_count": null,
   "id": "3f9c4c71",
   "metadata": {},
   "outputs": [],
   "source": []
  },
  {
   "cell_type": "code",
   "execution_count": null,
   "id": "9e8cb4d7",
   "metadata": {},
   "outputs": [],
   "source": []
  },
  {
   "cell_type": "code",
   "execution_count": null,
   "id": "5929c481",
   "metadata": {},
   "outputs": [],
   "source": []
  },
  {
   "cell_type": "code",
   "execution_count": null,
   "id": "bb4645ec",
   "metadata": {},
   "outputs": [],
   "source": []
  },
  {
   "cell_type": "code",
   "execution_count": null,
   "id": "70b4d2b0",
   "metadata": {},
   "outputs": [],
   "source": []
  },
  {
   "cell_type": "code",
   "execution_count": null,
   "id": "6b35dea5",
   "metadata": {},
   "outputs": [],
   "source": []
  }
 ],
 "metadata": {
  "kernelspec": {
   "display_name": "Python 3 (ipykernel)",
   "language": "python",
   "name": "python3"
  },
  "language_info": {
   "codemirror_mode": {
    "name": "ipython",
    "version": 3
   },
   "file_extension": ".py",
   "mimetype": "text/x-python",
   "name": "python",
   "nbconvert_exporter": "python",
   "pygments_lexer": "ipython3",
   "version": "3.9.12"
  },
  "vscode": {
   "interpreter": {
    "hash": "b67c32649d4e3d61c4781f757843c743bfb03b11540cea12a0346b1b611554a3"
   }
  }
 },
 "nbformat": 4,
 "nbformat_minor": 5
}
