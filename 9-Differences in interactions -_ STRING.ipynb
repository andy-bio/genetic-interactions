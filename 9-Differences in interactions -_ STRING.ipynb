{
 "cells": [
  {
   "cell_type": "code",
   "execution_count": 1,
   "metadata": {},
   "outputs": [],
   "source": [
    "from my_methods import *\n",
    "import requests\n",
    "import io"
   ]
  },
  {
   "cell_type": "code",
   "execution_count": 2,
   "metadata": {},
   "outputs": [],
   "source": [
    "dfE = pd.read_table('data/SGA_ExE.txt')\n",
    "dfN = pd.read_table('data/SGA_NxN.txt')\n",
    "dfEN = pd.read_table('data/SGA_ExN_NxE.txt')\n",
    "\n",
    "df_global = pd.concat([dfE, dfN, dfEN])\n",
    "df_global = df_global.dropna()\n",
    "df_global = df_global.loc[df_global['P-value']<0.05]\n",
    "df_global.reset_index(inplace=True)"
   ]
  },
  {
   "cell_type": "code",
   "execution_count": 3,
   "metadata": {},
   "outputs": [],
   "source": [
    "qM, aM = df_to_dictionary(df_global, model='mul')\n",
    "GLOBAL_mul = join_pcc(qM, aM)\n",
    "GLOBAL_mul, *_ = normalize_dictionary(GLOBAL_mul)\n",
    "GLOBAL_mul = select_interactions(GLOBAL_mul, 0.3)"
   ]
  },
  {
   "cell_type": "code",
   "execution_count": 4,
   "metadata": {},
   "outputs": [],
   "source": [
    "qA, aA = df_to_dictionary(df_global, model='add')\n",
    "GLOBAL_add = join_pcc(qA, aA)\n",
    "GLOBAL_add, *_ = normalize_dictionary(GLOBAL_add)\n",
    "GLOBAL_add = select_interactions(GLOBAL_add, 0.3)"
   ]
  },
  {
   "cell_type": "code",
   "execution_count": 5,
   "metadata": {},
   "outputs": [],
   "source": [
    "# Interacciones en add que no estan en mul\n",
    "diff_add = find_differences(GLOBAL_add, GLOBAL_mul)\n",
    "diff_mul = find_differences(GLOBAL_mul, GLOBAL_add)"
   ]
  },
  {
   "cell_type": "code",
   "execution_count": 6,
   "metadata": {},
   "outputs": [
    {
     "name": "stdout",
     "output_type": "stream",
     "text": [
      "Round:  9003 /9010    Coincidences:  314\r"
     ]
    }
   ],
   "source": [
    "count = 0\n",
    "coincidences = []\n",
    "exceptions = []\n",
    "filt_tables = 0.7\n",
    "for tup in diff_add:\n",
    "    try:\n",
    "        response = requests.get(f'https://string-db.org/api/tsv/interaction_partners?identifiers={tup[0]}&species=4932&limit=100')\n",
    "        table = pd.read_table(io.StringIO(response.content.decode('utf-8')))\n",
    "        df = table.loc[table['score']>filt_tables]\n",
    "        interactors = list(df['preferredName_B'])\n",
    "        if tup[1] in interactors:\n",
    "            coincidences.append(tup)\n",
    "        count += 1\n",
    "        print('Round: ', count, f'/{len(diff_add)}', '   Coincidences: ', len(coincidences), end='\\r')\n",
    "    except:\n",
    "        exceptions.append(tup)\n",
    "# Round:  9003 /9010    Coincidences:  314"
   ]
  },
  {
   "cell_type": "code",
   "execution_count": 1,
   "metadata": {},
   "outputs": [
    {
     "ename": "NameError",
     "evalue": "name 'diff_mul' is not defined",
     "output_type": "error",
     "traceback": [
      "\u001b[0;31m---------------------------------------------------------------------------\u001b[0m",
      "\u001b[0;31mNameError\u001b[0m                                 Traceback (most recent call last)",
      "\u001b[1;32m/home/andy/MyStuff/tesis/Jupyter/9-Differences in interactions -_ STRING.ipynb Cell 7\u001b[0m in \u001b[0;36m<cell line: 5>\u001b[0;34m()\u001b[0m\n\u001b[1;32m      <a href='vscode-notebook-cell:/home/andy/MyStuff/tesis/Jupyter/9-Differences%20in%20interactions%20-_%20STRING.ipynb#W6sZmlsZQ%3D%3D?line=2'>3</a>\u001b[0m exceptions \u001b[39m=\u001b[39m []\n\u001b[1;32m      <a href='vscode-notebook-cell:/home/andy/MyStuff/tesis/Jupyter/9-Differences%20in%20interactions%20-_%20STRING.ipynb#W6sZmlsZQ%3D%3D?line=3'>4</a>\u001b[0m filt_tables \u001b[39m=\u001b[39m \u001b[39m0.7\u001b[39m\n\u001b[0;32m----> <a href='vscode-notebook-cell:/home/andy/MyStuff/tesis/Jupyter/9-Differences%20in%20interactions%20-_%20STRING.ipynb#W6sZmlsZQ%3D%3D?line=4'>5</a>\u001b[0m \u001b[39mfor\u001b[39;00m tup \u001b[39min\u001b[39;00m diff_mul:\n\u001b[1;32m      <a href='vscode-notebook-cell:/home/andy/MyStuff/tesis/Jupyter/9-Differences%20in%20interactions%20-_%20STRING.ipynb#W6sZmlsZQ%3D%3D?line=5'>6</a>\u001b[0m     \u001b[39mtry\u001b[39;00m:\n\u001b[1;32m      <a href='vscode-notebook-cell:/home/andy/MyStuff/tesis/Jupyter/9-Differences%20in%20interactions%20-_%20STRING.ipynb#W6sZmlsZQ%3D%3D?line=6'>7</a>\u001b[0m         response \u001b[39m=\u001b[39m requests\u001b[39m.\u001b[39mget(\u001b[39mf\u001b[39m\u001b[39m'\u001b[39m\u001b[39mhttps://string-db.org/api/tsv/interaction_partners?identifiers=\u001b[39m\u001b[39m{\u001b[39;00mtup[\u001b[39m0\u001b[39m]\u001b[39m}\u001b[39;00m\u001b[39m&species=4932&limit=100\u001b[39m\u001b[39m'\u001b[39m)\n",
      "\u001b[0;31mNameError\u001b[0m: name 'diff_mul' is not defined"
     ]
    }
   ],
   "source": [
    "\n",
    "count = 0\n",
    "coincidences = []\n",
    "exceptions = []\n",
    "filt_tables = 0.7\n",
    "for tup in diff_mul:\n",
    "    try:\n",
    "        response = requests.get(f'https://string-db.org/api/tsv/interaction_partners?identifiers={tup[0]}&species=4932&limit=100')\n",
    "        table = pd.read_table(io.StringIO(response.content.decode('utf-8')))\n",
    "        df = table.loc[table['score']>filt_tables]\n",
    "        interactors = list(df['preferredName_B'])\n",
    "        if tup[1] in interactors:\n",
    "            coincidences.append(tup)\n",
    "        count += 1\n",
    "        print('Round: ', count, f'/{len(diff_mul)}', '   Coincidences: ', len(coincidences), end='\\r')\n",
    "    except:\n",
    "        exceptions.append(tup)\n",
    "# Round:  2512 /2515    Coincidences:  251"
   ]
  },
  {
   "cell_type": "code",
   "execution_count": null,
   "metadata": {},
   "outputs": [],
   "source": []
  },
  {
   "cell_type": "code",
   "execution_count": null,
   "metadata": {},
   "outputs": [],
   "source": []
  },
  {
   "cell_type": "code",
   "execution_count": null,
   "metadata": {},
   "outputs": [],
   "source": []
  },
  {
   "cell_type": "code",
   "execution_count": null,
   "metadata": {},
   "outputs": [],
   "source": []
  },
  {
   "cell_type": "code",
   "execution_count": null,
   "metadata": {},
   "outputs": [],
   "source": []
  },
  {
   "cell_type": "code",
   "execution_count": null,
   "metadata": {},
   "outputs": [],
   "source": []
  },
  {
   "cell_type": "code",
   "execution_count": null,
   "metadata": {},
   "outputs": [],
   "source": []
  }
 ],
 "metadata": {
  "kernelspec": {
   "display_name": "Python 3.9.12 ('base')",
   "language": "python",
   "name": "python3"
  },
  "language_info": {
   "codemirror_mode": {
    "name": "ipython",
    "version": 3
   },
   "file_extension": ".py",
   "mimetype": "text/x-python",
   "name": "python",
   "nbconvert_exporter": "python",
   "pygments_lexer": "ipython3",
   "version": "3.9.12"
  },
  "orig_nbformat": 4,
  "vscode": {
   "interpreter": {
    "hash": "b67c32649d4e3d61c4781f757843c743bfb03b11540cea12a0346b1b611554a3"
   }
  }
 },
 "nbformat": 4,
 "nbformat_minor": 2
}
