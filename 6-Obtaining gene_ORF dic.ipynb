{
 "cells": [
  {
   "cell_type": "code",
   "execution_count": 1,
   "metadata": {},
   "outputs": [],
   "source": [
    "from my_methods import *"
   ]
  },
  {
   "cell_type": "code",
   "execution_count": 2,
   "metadata": {},
   "outputs": [],
   "source": [
    "dfE = pd.read_table('data/SGA_ExE.txt')\n",
    "dfN = pd.read_table('data/SGA_NxN.txt')\n",
    "dfEN = pd.read_table('data/SGA_ExN_NxE.txt')"
   ]
  },
  {
   "cell_type": "code",
   "execution_count": 30,
   "metadata": {},
   "outputs": [],
   "source": [
    "df_global = pd.concat([dfE, dfN, dfEN])\n",
    "df_global.reset_index(inplace=True)"
   ]
  },
  {
   "cell_type": "code",
   "execution_count": 32,
   "metadata": {},
   "outputs": [],
   "source": [
    "gene_ORF = {}\n",
    "for i in range(len(df_global)):\n",
    "    gene1 = df_global.loc[i, 'Query allele name']\n",
    "    ORF1 = df_global.loc[i, 'Query Strain ID']\n",
    "    gene2 = df_global.loc[i, 'Array allele name']\n",
    "    ORF2 = df_global.loc[i, 'Array Strain ID']\n",
    "    if gene1 not in gene_ORF.keys():\n",
    "        gene_ORF[gene1] = ORF1.split('_')[0]\n",
    "    if gene2 not in gene_ORF.keys():\n",
    "        gene_ORF[gene2] = ORF2.split('_')[0]"
   ]
  },
  {
   "cell_type": "code",
   "execution_count": 33,
   "metadata": {},
   "outputs": [],
   "source": [
    "json_save(gene_ORF, 'data/gene_ORF.json')"
   ]
  },
  {
   "cell_type": "markdown",
   "metadata": {},
   "source": [
    " #### Creando listas con los genes esenciales y no esenciales"
   ]
  },
  {
   "cell_type": "code",
   "execution_count": 25,
   "metadata": {},
   "outputs": [],
   "source": [
    "essential_list = []\n",
    "essential_list.extend(list(dfE['Query allele name']))\n",
    "essential_list.extend(list(dfE['Array allele name']))"
   ]
  },
  {
   "cell_type": "code",
   "execution_count": 26,
   "metadata": {},
   "outputs": [],
   "source": [
    "nonessential_list = []\n",
    "nonessential_list.extend(list(dfN['Query allele name']))\n",
    "nonessential_list.extend(list(dfN['Array allele name']))"
   ]
  },
  {
   "cell_type": "code",
   "execution_count": 27,
   "metadata": {},
   "outputs": [],
   "source": [
    "dfEN_e = dfEN.loc[dfEN['Arraytype/Temp'].str.contains('TSA')]\n",
    "dfEN_n = dfEN.loc[dfEN['Arraytype/Temp'].str.contains('DMA')]"
   ]
  },
  {
   "cell_type": "code",
   "execution_count": 28,
   "metadata": {},
   "outputs": [],
   "source": [
    "essential_list.extend(list(set(dfEN_n['Query allele name'])))\n",
    "essential_list.extend(list(set(dfEN_e['Array allele name'])))\n",
    "#########################################################\n",
    "nonessential_list.extend(list(set(dfEN_n['Array allele name'])))\n",
    "nonessential_list.extend(list(set(dfEN_e['Query allele name'])))\n",
    "#########################################################\n",
    "essential_list = list(set(essential_list))\n",
    "nonessential_list = list(set(nonessential_list))"
   ]
  },
  {
   "cell_type": "code",
   "execution_count": 33,
   "metadata": {},
   "outputs": [],
   "source": [
    "list_save(essential_list, 'data/essential_genes.txt')\n",
    "list_save(nonessential_list, 'data/nonessential_genes.txt')"
   ]
  }
 ],
 "metadata": {
  "kernelspec": {
   "display_name": "Python 3.9.12 ('base')",
   "language": "python",
   "name": "python3"
  },
  "language_info": {
   "codemirror_mode": {
    "name": "ipython",
    "version": 3
   },
   "file_extension": ".py",
   "mimetype": "text/x-python",
   "name": "python",
   "nbconvert_exporter": "python",
   "pygments_lexer": "ipython3",
   "version": "3.9.12"
  },
  "orig_nbformat": 4,
  "vscode": {
   "interpreter": {
    "hash": "b67c32649d4e3d61c4781f757843c743bfb03b11540cea12a0346b1b611554a3"
   }
  }
 },
 "nbformat": 4,
 "nbformat_minor": 2
}
