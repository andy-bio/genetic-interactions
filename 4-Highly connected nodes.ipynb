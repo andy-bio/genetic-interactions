{
 "cells": [
  {
   "cell_type": "code",
   "execution_count": 1,
   "metadata": {},
   "outputs": [],
   "source": [
    "from my_methods import *\n",
    "import requests\n",
    "import io"
   ]
  },
  {
   "cell_type": "markdown",
   "metadata": {},
   "source": [
    "#### In this notebook I search for genes strongly connected in the add measure, ignored by the mul measure"
   ]
  },
  {
   "cell_type": "code",
   "execution_count": 2,
   "metadata": {},
   "outputs": [
    {
     "data": {
      "text/html": [
       "<div>\n",
       "<style scoped>\n",
       "    .dataframe tbody tr th:only-of-type {\n",
       "        vertical-align: middle;\n",
       "    }\n",
       "\n",
       "    .dataframe tbody tr th {\n",
       "        vertical-align: top;\n",
       "    }\n",
       "\n",
       "    .dataframe thead th {\n",
       "        text-align: right;\n",
       "    }\n",
       "</style>\n",
       "<table border=\"1\" class=\"dataframe\">\n",
       "  <thead>\n",
       "    <tr style=\"text-align: right;\">\n",
       "      <th></th>\n",
       "      <th>Query Strain ID</th>\n",
       "      <th>Query allele name</th>\n",
       "      <th>Array Strain ID</th>\n",
       "      <th>Array allele name</th>\n",
       "      <th>Arraytype/Temp</th>\n",
       "      <th>Genetic interaction score (ε)</th>\n",
       "      <th>P-value</th>\n",
       "      <th>Query single mutant fitness (SMF)</th>\n",
       "      <th>Array SMF</th>\n",
       "      <th>Double mutant fitness</th>\n",
       "      <th>Double mutant fitness standard deviation</th>\n",
       "      <th>Mul</th>\n",
       "      <th>Add</th>\n",
       "    </tr>\n",
       "  </thead>\n",
       "  <tbody>\n",
       "    <tr>\n",
       "      <th>0</th>\n",
       "      <td>YAL001C_tsq508</td>\n",
       "      <td>tfc3</td>\n",
       "      <td>YBL023C_tsa111</td>\n",
       "      <td>mcm2</td>\n",
       "      <td>TSA30</td>\n",
       "      <td>-0.0348</td>\n",
       "      <td>5.042000e-03</td>\n",
       "      <td>0.8285</td>\n",
       "      <td>0.9254</td>\n",
       "      <td>0.7319</td>\n",
       "      <td>0.0102</td>\n",
       "      <td>-0.034794</td>\n",
       "      <td>-0.0220</td>\n",
       "    </tr>\n",
       "    <tr>\n",
       "      <th>1</th>\n",
       "      <td>YAL001C_tsq508</td>\n",
       "      <td>tfc3</td>\n",
       "      <td>YBL026W_tsa1065</td>\n",
       "      <td>lsm2</td>\n",
       "      <td>TSA30</td>\n",
       "      <td>-0.3529</td>\n",
       "      <td>3.591000e-06</td>\n",
       "      <td>0.8285</td>\n",
       "      <td>0.9408</td>\n",
       "      <td>0.4266</td>\n",
       "      <td>0.0790</td>\n",
       "      <td>-0.352853</td>\n",
       "      <td>-0.3427</td>\n",
       "    </tr>\n",
       "    <tr>\n",
       "      <th>6</th>\n",
       "      <td>YAL001C_tsq508</td>\n",
       "      <td>tfc3</td>\n",
       "      <td>YBL034C_tsa950</td>\n",
       "      <td>stu1</td>\n",
       "      <td>TSA30</td>\n",
       "      <td>-0.1294</td>\n",
       "      <td>1.931000e-02</td>\n",
       "      <td>0.8285</td>\n",
       "      <td>0.6690</td>\n",
       "      <td>0.4249</td>\n",
       "      <td>0.0482</td>\n",
       "      <td>-0.129366</td>\n",
       "      <td>-0.0726</td>\n",
       "    </tr>\n",
       "    <tr>\n",
       "      <th>12</th>\n",
       "      <td>YAL001C_tsq508</td>\n",
       "      <td>tfc3</td>\n",
       "      <td>YBL076C_tsa275</td>\n",
       "      <td>ils1</td>\n",
       "      <td>TSA30</td>\n",
       "      <td>-0.0250</td>\n",
       "      <td>1.301000e-04</td>\n",
       "      <td>0.8285</td>\n",
       "      <td>0.8097</td>\n",
       "      <td>0.6458</td>\n",
       "      <td>0.0054</td>\n",
       "      <td>-0.025036</td>\n",
       "      <td>0.0076</td>\n",
       "    </tr>\n",
       "    <tr>\n",
       "      <th>15</th>\n",
       "      <td>YAL001C_tsq508</td>\n",
       "      <td>tfc3</td>\n",
       "      <td>YBL097W_tsa510</td>\n",
       "      <td>brn1</td>\n",
       "      <td>TSA30</td>\n",
       "      <td>-0.0808</td>\n",
       "      <td>5.582000e-15</td>\n",
       "      <td>0.8285</td>\n",
       "      <td>0.5464</td>\n",
       "      <td>0.3719</td>\n",
       "      <td>0.0077</td>\n",
       "      <td>-0.080792</td>\n",
       "      <td>-0.0030</td>\n",
       "    </tr>\n",
       "  </tbody>\n",
       "</table>\n",
       "</div>"
      ],
      "text/plain": [
       "   Query Strain ID Query allele name  Array Strain ID Array allele name  \\\n",
       "0   YAL001C_tsq508              tfc3   YBL023C_tsa111              mcm2   \n",
       "1   YAL001C_tsq508              tfc3  YBL026W_tsa1065              lsm2   \n",
       "6   YAL001C_tsq508              tfc3   YBL034C_tsa950              stu1   \n",
       "12  YAL001C_tsq508              tfc3   YBL076C_tsa275              ils1   \n",
       "15  YAL001C_tsq508              tfc3   YBL097W_tsa510              brn1   \n",
       "\n",
       "   Arraytype/Temp  Genetic interaction score (ε)       P-value  \\\n",
       "0           TSA30                        -0.0348  5.042000e-03   \n",
       "1           TSA30                        -0.3529  3.591000e-06   \n",
       "6           TSA30                        -0.1294  1.931000e-02   \n",
       "12          TSA30                        -0.0250  1.301000e-04   \n",
       "15          TSA30                        -0.0808  5.582000e-15   \n",
       "\n",
       "    Query single mutant fitness (SMF)  Array SMF  Double mutant fitness  \\\n",
       "0                              0.8285     0.9254                 0.7319   \n",
       "1                              0.8285     0.9408                 0.4266   \n",
       "6                              0.8285     0.6690                 0.4249   \n",
       "12                             0.8285     0.8097                 0.6458   \n",
       "15                             0.8285     0.5464                 0.3719   \n",
       "\n",
       "    Double mutant fitness standard deviation       Mul     Add  \n",
       "0                                     0.0102 -0.034794 -0.0220  \n",
       "1                                     0.0790 -0.352853 -0.3427  \n",
       "6                                     0.0482 -0.129366 -0.0726  \n",
       "12                                    0.0054 -0.025036  0.0076  \n",
       "15                                    0.0077 -0.080792 -0.0030  "
      ]
     },
     "execution_count": 2,
     "metadata": {},
     "output_type": "execute_result"
    }
   ],
   "source": [
    "df = pd.read_table('data/SGA_ExE.txt')\n",
    "df = df.dropna()            # Elimino filas con NaN\n",
    "df.reset_index(inplace=True, drop=True)\n",
    "##################################\n",
    "df['Mul'] = df['Double mutant fitness']-df['Query single mutant fitness (SMF)']*df['Array SMF']         # columna con interacciones mul\n",
    "df['Add'] = df['Double mutant fitness']-(df['Query single mutant fitness (SMF)']+df['Array SMF']-1)     # columna con interacciones add\n",
    "##################################\n",
    "std_mul = df['Mul'].std()           # Desviaciones estandar de cada columna\n",
    "std_add = df['Add'].std()\n",
    "##################################\n",
    "df['Query allele name'] = df['Query allele name'].map(lambda x: x.split('-')[0])        # Cambio de nombre\n",
    "df['Array allele name'] = df['Array allele name'].map(lambda x: x.split('-')[0])\n",
    "##################################\n",
    "df = df.loc[df['P-value']<0.05]             # Filtro P-value\n",
    "df.head()"
   ]
  },
  {
   "cell_type": "code",
   "execution_count": 3,
   "metadata": {},
   "outputs": [],
   "source": [
    "def df_to_dictionary(csv, model, pvalue=1):\n",
    "    df = csv.loc[csv[ 'P-value' ]<pvalue]\n",
    "    df.reset_index(inplace=True, drop=True)\n",
    "    query_dic = {}\n",
    "    array_dic = {}\n",
    "    for i in range(len(df)):\n",
    "        if model == 'mul':\n",
    "            interaction = df.loc[i, 'Double mutant fitness']-df.loc[i, 'Query single mutant fitness (SMF)']*df.loc[i, 'Array SMF']\n",
    "        if model == 'add':\n",
    "            interaction = df.loc[i, 'Double mutant fitness']-(df.loc[i, 'Query single mutant fitness (SMF)']+df.loc[i, 'Array SMF']-1)\n",
    "        if not (np.isnan(interaction) or np.isinf(interaction)):\n",
    "            query = df.loc[i, 'Query allele name']\n",
    "            array = df.loc[i, 'Array allele name']\n",
    "            ########################################################\n",
    "            if query not in query_dic.keys():\n",
    "                query_dic[query]={}\n",
    "            if array not in query_dic[query].keys():\n",
    "                query_dic[query][array]=interaction\n",
    "            elif abs(interaction) > abs(query_dic[query][array]):\n",
    "                query_dic[query][array]=interaction\n",
    "            ########################################################\n",
    "            if array not in array_dic.keys():\n",
    "                array_dic[array]={}\n",
    "            if query not in array_dic[array].keys():\n",
    "                array_dic[array][query]=interaction\n",
    "            elif abs(interaction) > abs(array_dic[array][query]):\n",
    "                array_dic[array][query]=interaction\n",
    "            ########################################################\n",
    "    return query_dic, array_dic"
   ]
  },
  {
   "cell_type": "code",
   "execution_count": 4,
   "metadata": {},
   "outputs": [],
   "source": [
    "qE, aE = df_to_dictionary(df, model='mul', pvalue=0.05)\n",
    "ExE_mul = join_pcc(qE, aE)"
   ]
  },
  {
   "cell_type": "code",
   "execution_count": 5,
   "metadata": {},
   "outputs": [],
   "source": [
    "qE, aE = df_to_dictionary(df, model='add', pvalue=0.05)\n",
    "ExE_add = join_pcc(qE, aE)"
   ]
  },
  {
   "cell_type": "code",
   "execution_count": null,
   "metadata": {},
   "outputs": [],
   "source": [
    "# v_m = []\n",
    "# v_a = []\n",
    "# for k in ExE_mul.keys():\n",
    "#     v_m.extend(ExE_mul[k].values())\n",
    "# for k in ExE_add.keys():\n",
    "#     v_a.extend(ExE_add[k].values())\n",
    "# v_m = np.array(v_m)\n",
    "# v_a = np.array(v_a)\n",
    "# np.mean(v_m), np.mean(v_a)"
   ]
  },
  {
   "cell_type": "code",
   "execution_count": 6,
   "metadata": {},
   "outputs": [],
   "source": [
    "# ExE_mul, mu_mul, sigma_mul = normalize_dictionary(ExE_mul)\n",
    "# ExE_add, mu_add, sigma_add = normalize_dictionary(ExE_add)"
   ]
  },
  {
   "cell_type": "code",
   "execution_count": 9,
   "metadata": {},
   "outputs": [
    {
     "data": {
      "text/plain": [
       "0.16560200705000264"
      ]
     },
     "execution_count": 9,
     "metadata": {},
     "output_type": "execute_result"
    }
   ],
   "source": [
    "2*std_mul"
   ]
  },
  {
   "cell_type": "code",
   "execution_count": 10,
   "metadata": {},
   "outputs": [],
   "source": [
    "for gene in ExE_mul.keys():\n",
    "    ExE_mul[gene] = dict(filter(lambda x: abs(x[1])>2*std_mul, ExE_mul[gene].items()))\n",
    "\n",
    "for gene in ExE_add.keys():\n",
    "    ExE_add[gene] = dict(filter(lambda x: abs(x[1])>2*std_add, ExE_add[gene].items()))"
   ]
  },
  {
   "cell_type": "code",
   "execution_count": 8,
   "metadata": {},
   "outputs": [
    {
     "data": {
      "text/plain": [
       "14"
      ]
     },
     "execution_count": 8,
     "metadata": {},
     "output_type": "execute_result"
    }
   ],
   "source": [
    "# potential_hubs0 = []\n",
    "# for gene in ExE_add.keys():\n",
    "#     try:\n",
    "# ####### Busco los que en add tienen 10 veces mas interactores que en mul\n",
    "#         if len(ExE_mul[gene]) > 0 and len(ExE_mul[gene]) < 0.1 * len(ExE_add[gene]):\n",
    "#             potential_hubs0.append(gene)\n",
    "# ####### Busco los que en mul tienen 0 interactores y mas de 30\n",
    "#         if len(ExE_mul[gene]) == 0 and len(ExE_add[gene])>30:\n",
    "#             potential_hubs0.append(gene)\n",
    "#     except:\n",
    "#         pass\n",
    "# potential_hubs0 = list(set(potential_hubs0))\n",
    "# len(potential_hubs0)"
   ]
  },
  {
   "cell_type": "code",
   "execution_count": 11,
   "metadata": {},
   "outputs": [
    {
     "data": {
      "text/plain": [
       "13"
      ]
     },
     "execution_count": 11,
     "metadata": {},
     "output_type": "execute_result"
    }
   ],
   "source": [
    "potential_hubs0 = []\n",
    "for gene in ExE_add.keys():\n",
    "    try:\n",
    "####### De aquellos genes con mas de 30 interactores en add se buscan los genes que en add tienen mas de 10 veces la cantidad de interactores predicha por mul\n",
    "####### Busco los que en add tienen 10 veces mas interactores que en mul\n",
    "        if len(ExE_add[gene])>30 and len(ExE_mul[gene]) > 0 and len(ExE_mul[gene]) < 0.1 * len(ExE_add[gene]):\n",
    "            potential_hubs0.append(gene)\n",
    "####### Busco los que en mul tienen 0 interactores y mas de 30\n",
    "        if len(ExE_mul[gene]) == 0 and len(ExE_add[gene])>30:\n",
    "            potential_hubs0.append(gene)\n",
    "    except:\n",
    "        pass\n",
    "potential_hubs0 = list(set(potential_hubs0))\n",
    "len(potential_hubs0)"
   ]
  },
  {
   "cell_type": "code",
   "execution_count": 12,
   "metadata": {},
   "outputs": [
    {
     "data": {
      "text/html": [
       "<div>\n",
       "<style scoped>\n",
       "    .dataframe tbody tr th:only-of-type {\n",
       "        vertical-align: middle;\n",
       "    }\n",
       "\n",
       "    .dataframe tbody tr th {\n",
       "        vertical-align: top;\n",
       "    }\n",
       "\n",
       "    .dataframe thead th {\n",
       "        text-align: right;\n",
       "    }\n",
       "</style>\n",
       "<table border=\"1\" class=\"dataframe\">\n",
       "  <thead>\n",
       "    <tr style=\"text-align: right;\">\n",
       "      <th></th>\n",
       "      <th>Candidate Hubs</th>\n",
       "      <th># of interactors (eM)</th>\n",
       "      <th># of interactors (eA)</th>\n",
       "      <th># of common interactors</th>\n",
       "    </tr>\n",
       "  </thead>\n",
       "  <tbody>\n",
       "    <tr>\n",
       "      <th>0</th>\n",
       "      <td>rok1</td>\n",
       "      <td>0</td>\n",
       "      <td>71</td>\n",
       "      <td>0</td>\n",
       "    </tr>\n",
       "    <tr>\n",
       "      <th>1</th>\n",
       "      <td>mpp10</td>\n",
       "      <td>0</td>\n",
       "      <td>86</td>\n",
       "      <td>0</td>\n",
       "    </tr>\n",
       "    <tr>\n",
       "      <th>2</th>\n",
       "      <td>noc4</td>\n",
       "      <td>0</td>\n",
       "      <td>73</td>\n",
       "      <td>0</td>\n",
       "    </tr>\n",
       "    <tr>\n",
       "      <th>3</th>\n",
       "      <td>tim17</td>\n",
       "      <td>1</td>\n",
       "      <td>53</td>\n",
       "      <td>0</td>\n",
       "    </tr>\n",
       "    <tr>\n",
       "      <th>4</th>\n",
       "      <td>erg12</td>\n",
       "      <td>5</td>\n",
       "      <td>75</td>\n",
       "      <td>0</td>\n",
       "    </tr>\n",
       "    <tr>\n",
       "      <th>5</th>\n",
       "      <td>rcl1</td>\n",
       "      <td>2</td>\n",
       "      <td>56</td>\n",
       "      <td>1</td>\n",
       "    </tr>\n",
       "    <tr>\n",
       "      <th>6</th>\n",
       "      <td>rrp7</td>\n",
       "      <td>0</td>\n",
       "      <td>49</td>\n",
       "      <td>0</td>\n",
       "    </tr>\n",
       "    <tr>\n",
       "      <th>7</th>\n",
       "      <td>tif35</td>\n",
       "      <td>0</td>\n",
       "      <td>78</td>\n",
       "      <td>0</td>\n",
       "    </tr>\n",
       "    <tr>\n",
       "      <th>8</th>\n",
       "      <td>pop6</td>\n",
       "      <td>1</td>\n",
       "      <td>33</td>\n",
       "      <td>1</td>\n",
       "    </tr>\n",
       "    <tr>\n",
       "      <th>9</th>\n",
       "      <td>vrg4</td>\n",
       "      <td>2</td>\n",
       "      <td>58</td>\n",
       "      <td>2</td>\n",
       "    </tr>\n",
       "    <tr>\n",
       "      <th>10</th>\n",
       "      <td>trm112</td>\n",
       "      <td>0</td>\n",
       "      <td>82</td>\n",
       "      <td>0</td>\n",
       "    </tr>\n",
       "    <tr>\n",
       "      <th>11</th>\n",
       "      <td>imp4</td>\n",
       "      <td>1</td>\n",
       "      <td>50</td>\n",
       "      <td>0</td>\n",
       "    </tr>\n",
       "    <tr>\n",
       "      <th>12</th>\n",
       "      <td>bms1</td>\n",
       "      <td>3</td>\n",
       "      <td>59</td>\n",
       "      <td>2</td>\n",
       "    </tr>\n",
       "  </tbody>\n",
       "</table>\n",
       "</div>"
      ],
      "text/plain": [
       "   Candidate Hubs  # of interactors (eM)  # of interactors (eA)  \\\n",
       "0            rok1                      0                     71   \n",
       "1           mpp10                      0                     86   \n",
       "2            noc4                      0                     73   \n",
       "3           tim17                      1                     53   \n",
       "4           erg12                      5                     75   \n",
       "5            rcl1                      2                     56   \n",
       "6            rrp7                      0                     49   \n",
       "7           tif35                      0                     78   \n",
       "8            pop6                      1                     33   \n",
       "9            vrg4                      2                     58   \n",
       "10         trm112                      0                     82   \n",
       "11           imp4                      1                     50   \n",
       "12           bms1                      3                     59   \n",
       "\n",
       "    # of common interactors  \n",
       "0                         0  \n",
       "1                         0  \n",
       "2                         0  \n",
       "3                         0  \n",
       "4                         0  \n",
       "5                         1  \n",
       "6                         0  \n",
       "7                         0  \n",
       "8                         1  \n",
       "9                         2  \n",
       "10                        0  \n",
       "11                        0  \n",
       "12                        2  "
      ]
     },
     "execution_count": 12,
     "metadata": {},
     "output_type": "execute_result"
    }
   ],
   "source": [
    "table = pd.DataFrame(\n",
    "    {'Candidate Hubs':[],\n",
    "    '# of interactors (eM)':[],\n",
    "    '# of interactors (eA)':[],\n",
    "    '# of common interactors':[],\n",
    "    }\n",
    ")\n",
    "for i in range(len(potential_hubs0)):\n",
    "    gene = potential_hubs0[i]\n",
    "    # int_mul = ExE_mul[gene].keys()\n",
    "    # int_add = ExE_add[gene].keys()\n",
    "    int_mul = len(ExE_mul[gene])\n",
    "    int_add = len(ExE_add[gene])\n",
    "    intersection = set(ExE_mul[gene].keys()).intersection(set(ExE_add[gene].keys()))\n",
    "    # table.loc[i,] = [i, len(int_mul), len(int_add), len(intersection)]\n",
    "    table.loc[i,] = [i, int_mul, int_add, len(intersection)]\n",
    "table['Candidate Hubs'] = list(map(lambda x: x.split('-')[0], potential_hubs0))\n",
    "table[table.columns[1:4]] = table[table.columns[1:4]].astype('int32')\n",
    "table"
   ]
  },
  {
   "cell_type": "code",
   "execution_count": 10,
   "metadata": {},
   "outputs": [],
   "source": [
    "table.to_csv('potential_hubs.csv')"
   ]
  },
  {
   "cell_type": "code",
   "execution_count": 14,
   "metadata": {},
   "outputs": [
    {
     "data": {
      "text/plain": [
       "0"
      ]
     },
     "execution_count": 14,
     "metadata": {},
     "output_type": "execute_result"
    }
   ],
   "source": [
    "## Hago el analisis inverso, para hallar los posibles hubs de mul\n",
    "potential_hubs_mul = []\n",
    "for gene in ExE_mul.keys():\n",
    "    try:\n",
    "####### De aquellos genes con mas de 30 interactores en add se buscan los genes que en add tienen mas de 10 veces la cantidad de interactores predicha por mul\n",
    "####### Busco los que en add tienen 10 veces mas interactores que en mul\n",
    "        if len(ExE_mul[gene])>30 and len(ExE_add[gene]) > 0 and len(ExE_add[gene]) < 0.1 * len(ExE_mul[gene]):\n",
    "            potential_hubs_mul.append(gene)\n",
    "####### Busco los que en mul tienen 0 interactores y mas de 30\n",
    "        if len(ExE_add[gene]) == 0 and len(ExE_mul[gene])>30:\n",
    "            potential_hubs_mul.append(gene)\n",
    "    except:\n",
    "        pass\n",
    "potential_hubs_mul = list(set(potential_hubs_mul))\n",
    "len(potential_hubs_mul) # No hay hubs potenciales en mul"
   ]
  },
  {
   "cell_type": "code",
   "execution_count": 15,
   "metadata": {},
   "outputs": [
    {
     "data": {
      "text/plain": [
       "0.08280100352500132"
      ]
     },
     "execution_count": 15,
     "metadata": {},
     "output_type": "execute_result"
    }
   ],
   "source": [
    "menos = ['yef3', 'plp2', 'kae1', 'yef3']"
   ]
  },
  {
   "cell_type": "code",
   "execution_count": 16,
   "metadata": {},
   "outputs": [
    {
     "data": {
      "text/html": [
       "<div>\n",
       "<style scoped>\n",
       "    .dataframe tbody tr th:only-of-type {\n",
       "        vertical-align: middle;\n",
       "    }\n",
       "\n",
       "    .dataframe tbody tr th {\n",
       "        vertical-align: top;\n",
       "    }\n",
       "\n",
       "    .dataframe thead th {\n",
       "        text-align: right;\n",
       "    }\n",
       "</style>\n",
       "<table border=\"1\" class=\"dataframe\">\n",
       "  <thead>\n",
       "    <tr style=\"text-align: right;\">\n",
       "      <th></th>\n",
       "      <th>Query Strain ID</th>\n",
       "      <th>Query allele name</th>\n",
       "      <th>Array Strain ID</th>\n",
       "      <th>Array allele name</th>\n",
       "      <th>Arraytype/Temp</th>\n",
       "      <th>Genetic interaction score (ε)</th>\n",
       "      <th>P-value</th>\n",
       "      <th>Query single mutant fitness (SMF)</th>\n",
       "      <th>Array SMF</th>\n",
       "      <th>Double mutant fitness</th>\n",
       "      <th>Double mutant fitness standard deviation</th>\n",
       "      <th>Mul</th>\n",
       "      <th>Add</th>\n",
       "    </tr>\n",
       "  </thead>\n",
       "  <tbody>\n",
       "    <tr>\n",
       "      <th>484263</th>\n",
       "      <td>YLR249W_tsq584</td>\n",
       "      <td>yef3</td>\n",
       "      <td>YHR107C_tsa50</td>\n",
       "      <td>cdc12</td>\n",
       "      <td>TSA26</td>\n",
       "      <td>-0.2446</td>\n",
       "      <td>5.172000e-26</td>\n",
       "      <td>0.5436</td>\n",
       "      <td>0.8644</td>\n",
       "      <td>0.2253</td>\n",
       "      <td>0.0212</td>\n",
       "      <td>-0.244588</td>\n",
       "      <td>-0.1827</td>\n",
       "    </tr>\n",
       "    <tr>\n",
       "      <th>484451</th>\n",
       "      <td>YLR249W_tsq584</td>\n",
       "      <td>yef3</td>\n",
       "      <td>YNL118C_tsa754</td>\n",
       "      <td>dcp2</td>\n",
       "      <td>TSA26</td>\n",
       "      <td>-0.1779</td>\n",
       "      <td>1.380000e-04</td>\n",
       "      <td>0.5436</td>\n",
       "      <td>0.5762</td>\n",
       "      <td>0.1353</td>\n",
       "      <td>0.1140</td>\n",
       "      <td>-0.177922</td>\n",
       "      <td>0.0155</td>\n",
       "    </tr>\n",
       "  </tbody>\n",
       "</table>\n",
       "</div>"
      ],
      "text/plain": [
       "       Query Strain ID Query allele name Array Strain ID Array allele name  \\\n",
       "484263  YLR249W_tsq584              yef3   YHR107C_tsa50             cdc12   \n",
       "484451  YLR249W_tsq584              yef3  YNL118C_tsa754              dcp2   \n",
       "\n",
       "       Arraytype/Temp  Genetic interaction score (ε)       P-value  \\\n",
       "484263          TSA26                        -0.2446  5.172000e-26   \n",
       "484451          TSA26                        -0.1779  1.380000e-04   \n",
       "\n",
       "        Query single mutant fitness (SMF)  Array SMF  Double mutant fitness  \\\n",
       "484263                             0.5436     0.8644                 0.2253   \n",
       "484451                             0.5436     0.5762                 0.1353   \n",
       "\n",
       "        Double mutant fitness standard deviation       Mul     Add  \n",
       "484263                                    0.0212 -0.244588 -0.1827  \n",
       "484451                                    0.1140 -0.177922  0.0155  "
      ]
     },
     "execution_count": 16,
     "metadata": {},
     "output_type": "execute_result"
    }
   ],
   "source": [
    "yef_df = df.loc[((df['Query allele name'].str.contains('yef3')) | (df['Array allele name'].str.contains('yef3'))) & (abs(df['Mul'])>2*std_mul)]\n",
    "yef_df"
   ]
  },
  {
   "cell_type": "code",
   "execution_count": 11,
   "metadata": {},
   "outputs": [],
   "source": [
    "# list_save(list(map(lambda x: x.split('-')[0].upper(), potential_hubs0)), 'potential_hubs.txt')\n",
    "list_save(list(map(lambda x: x.upper(), potential_hubs0)), 'potential_hubs.txt')"
   ]
  },
  {
   "cell_type": "code",
   "execution_count": 12,
   "metadata": {},
   "outputs": [],
   "source": [
    "!find_enrichment.py potential_hubs.txt ~/MyStuff/tesis/Jupyter/GO/population.txt ~/MyStuff/tesis/Jupyter/GO/pairs.txt --obo ~/MyStuff/tesis/Jupyter/GO/go.obo > potential_result.txt\n",
    "!tail -n +90 potential_result.txt | head -n 5 > potential_result.txt_parsed.txt"
   ]
  },
  {
   "cell_type": "code",
   "execution_count": 13,
   "metadata": {},
   "outputs": [
    {
     "data": {
      "text/html": [
       "<div>\n",
       "<style scoped>\n",
       "    .dataframe tbody tr th:only-of-type {\n",
       "        vertical-align: middle;\n",
       "    }\n",
       "\n",
       "    .dataframe tbody tr th {\n",
       "        vertical-align: top;\n",
       "    }\n",
       "\n",
       "    .dataframe thead th {\n",
       "        text-align: right;\n",
       "    }\n",
       "</style>\n",
       "<table border=\"1\" class=\"dataframe\">\n",
       "  <thead>\n",
       "    <tr style=\"text-align: right;\">\n",
       "      <th></th>\n",
       "      <th>GO</th>\n",
       "      <th>NS</th>\n",
       "      <th>enrichment</th>\n",
       "      <th>name</th>\n",
       "      <th>ratio_in_study</th>\n",
       "      <th>ratio_in_pop</th>\n",
       "      <th>p_uncorrected</th>\n",
       "      <th>depth</th>\n",
       "      <th>study_count</th>\n",
       "      <th>p_bonferroni</th>\n",
       "      <th>p_sidak</th>\n",
       "      <th>p_holm</th>\n",
       "      <th>p_fdr_bh</th>\n",
       "      <th>study_items</th>\n",
       "    </tr>\n",
       "  </thead>\n",
       "  <tbody>\n",
       "    <tr>\n",
       "      <th>0</th>\n",
       "      <td>GO:0022613</td>\n",
       "      <td>BP</td>\n",
       "      <td>e</td>\n",
       "      <td>ribonucleoprotein complex biogenesis</td>\n",
       "      <td>8/13</td>\n",
       "      <td>224/6982</td>\n",
       "      <td>1.110000e-09</td>\n",
       "      <td>4</td>\n",
       "      <td>8</td>\n",
       "      <td>0.000006</td>\n",
       "      <td>0.000006</td>\n",
       "      <td>0.000006</td>\n",
       "      <td>0.000004</td>\n",
       "      <td>BMS1, IMP4, MPP10, NOC4, RCL1, ROK1, RRP7, TRM112</td>\n",
       "    </tr>\n",
       "    <tr>\n",
       "      <th>1</th>\n",
       "      <td>GO:0006364</td>\n",
       "      <td>BP</td>\n",
       "      <td>e</td>\n",
       "      <td>rRNA processing</td>\n",
       "      <td>9/13</td>\n",
       "      <td>363/6982</td>\n",
       "      <td>1.500000e-09</td>\n",
       "      <td>9</td>\n",
       "      <td>9</td>\n",
       "      <td>0.000008</td>\n",
       "      <td>0.000007</td>\n",
       "      <td>0.000008</td>\n",
       "      <td>0.000004</td>\n",
       "      <td>BMS1, IMP4, MPP10, NOC4, POP6, RCL1, ROK1, RRP...</td>\n",
       "    </tr>\n",
       "    <tr>\n",
       "      <th>2</th>\n",
       "      <td>GO:0044085</td>\n",
       "      <td>BP</td>\n",
       "      <td>e</td>\n",
       "      <td>cellular component biogenesis</td>\n",
       "      <td>8/13</td>\n",
       "      <td>250/6982</td>\n",
       "      <td>2.670000e-09</td>\n",
       "      <td>3</td>\n",
       "      <td>8</td>\n",
       "      <td>0.000014</td>\n",
       "      <td>0.000013</td>\n",
       "      <td>0.000014</td>\n",
       "      <td>0.000004</td>\n",
       "      <td>BMS1, IMP4, MPP10, NOC4, RCL1, ROK1, RRP7, TRM112</td>\n",
       "    </tr>\n",
       "    <tr>\n",
       "      <th>3</th>\n",
       "      <td>GO:0000480</td>\n",
       "      <td>BP</td>\n",
       "      <td>e</td>\n",
       "      <td>endonucleolytic cleavage in 5'-ETS of tricistr...</td>\n",
       "      <td>5/13</td>\n",
       "      <td>35/6982</td>\n",
       "      <td>2.940000e-09</td>\n",
       "      <td>11</td>\n",
       "      <td>5</td>\n",
       "      <td>0.000015</td>\n",
       "      <td>0.000015</td>\n",
       "      <td>0.000015</td>\n",
       "      <td>0.000004</td>\n",
       "      <td>BMS1, MPP10, NOC4, RCL1, ROK1</td>\n",
       "    </tr>\n",
       "  </tbody>\n",
       "</table>\n",
       "</div>"
      ],
      "text/plain": [
       "           GO  NS enrichment  \\\n",
       "0  GO:0022613  BP          e   \n",
       "1  GO:0006364  BP          e   \n",
       "2  GO:0044085  BP          e   \n",
       "3  GO:0000480  BP          e   \n",
       "\n",
       "                                                name ratio_in_study  \\\n",
       "0               ribonucleoprotein complex biogenesis           8/13   \n",
       "1                     rRNA processing                          9/13   \n",
       "2                     cellular component biogenesis            8/13   \n",
       "3  endonucleolytic cleavage in 5'-ETS of tricistr...           5/13   \n",
       "\n",
       "  ratio_in_pop  p_uncorrected  depth  study_count  p_bonferroni   p_sidak  \\\n",
       "0     224/6982   1.110000e-09      4            8      0.000006  0.000006   \n",
       "1     363/6982   1.500000e-09      9            9      0.000008  0.000007   \n",
       "2     250/6982   2.670000e-09      3            8      0.000014  0.000013   \n",
       "3      35/6982   2.940000e-09     11            5      0.000015  0.000015   \n",
       "\n",
       "     p_holm  p_fdr_bh                                        study_items  \n",
       "0  0.000006  0.000004  BMS1, IMP4, MPP10, NOC4, RCL1, ROK1, RRP7, TRM112  \n",
       "1  0.000008  0.000004  BMS1, IMP4, MPP10, NOC4, POP6, RCL1, ROK1, RRP...  \n",
       "2  0.000014  0.000004  BMS1, IMP4, MPP10, NOC4, RCL1, ROK1, RRP7, TRM112  \n",
       "3  0.000015  0.000004                      BMS1, MPP10, NOC4, RCL1, ROK1  "
      ]
     },
     "execution_count": 13,
     "metadata": {},
     "output_type": "execute_result"
    }
   ],
   "source": [
    "potential_hubs_enrichment = pd.read_table('potential_result.txt_parsed.txt')\n",
    "potential_hubs_enrichment"
   ]
  },
  {
   "cell_type": "code",
   "execution_count": 17,
   "metadata": {},
   "outputs": [],
   "source": [
    "potential_hubs_enrichment[['GO', 'NS', 'name', 'ratio_in_study', 'p_bonferroni', 'study_items']].to_csv('enrichment.csv')"
   ]
  },
  {
   "cell_type": "code",
   "execution_count": 18,
   "metadata": {},
   "outputs": [],
   "source": [
    "# jorge = {'mpp10', 'trm112', 'erg12', 'tif35', 'noc4', 'rok1', 'bms1', 'vrg4', 'rcl1', 'tim17', 'imp4', 'rrp7', 'pop6'}\n",
    "# potential_hubs = set(map(lambda x: x.split('-')[0], potential_hubs0))"
   ]
  },
  {
   "cell_type": "code",
   "execution_count": 1,
   "metadata": {},
   "outputs": [],
   "source": [
    "# print('Comunes:\\n', jorge.intersection(potential_hubs))\n",
    "# # tif no esta en procesoma, pero interactua con el ribosoma\n",
    "# # tim17 es de la mitocondria, nada que ver"
   ]
  },
  {
   "cell_type": "code",
   "execution_count": 2,
   "metadata": {},
   "outputs": [],
   "source": [
    "# print('Mios, no de Jorge:\\n', potential_hubs.difference(jorge))\n",
    "# # ded1 en procesamiento de pre-mRNA\n",
    "# # mcm6 en inicio de la replicacion\n",
    "# # tfb1 en reparacion de nucleotidos y subunidad de un factor de transcripcion\n",
    "# # yef3 es factor de elongacion"
   ]
  },
  {
   "cell_type": "code",
   "execution_count": 3,
   "metadata": {},
   "outputs": [],
   "source": [
    "# print('Jorge, no mios:\\n', jorge.difference(potential_hubs))\n",
    "# # bms1 esta en sintesis de subunidades ribosomales y procesamiento de rRNA\n",
    "# # erg12 Mevalonate kinase; acts in the biosynthesis of isoprenoids and sterols\n",
    "# # imp4 Component of the SSU processome\n",
    "# # noc4 Nucleolar protein; forms a complex with Nop14p that mediates maturation and nuclear export of 40S ribosomal subunits"
   ]
  },
  {
   "cell_type": "code",
   "execution_count": null,
   "metadata": {},
   "outputs": [],
   "source": [
    "### Comprobando la existencia de estas interacciones para add a traves de la api de STRING"
   ]
  },
  {
   "cell_type": "code",
   "execution_count": 15,
   "metadata": {},
   "outputs": [],
   "source": [
    "# percentage_predicted = {}\n",
    "# exceptions = []\n",
    "# for hub in potential_hubs0:\n",
    "#     try:\n",
    "#         gene = hub.split('-')[0].upper()\n",
    "#         response = requests.get(f'https://string-db.org/api/tsv/interaction_partners?identifiers={gene}&species=4932&limit=100')\n",
    "#         table = pd.read_table(io.StringIO(response.content.decode('utf-8')))\n",
    "#         df = table.loc[(table['escore']>0.5) | (table['dscore']>0.5) | (table['tscore']>0.5)]\n",
    "#         interactors_predicted = set(ExE_add[hub].keys())      ########## Recuerda que aqui estas usando ExE\n",
    "#         interactors_predicted = set(map(lambda x: x.split('-')[0].upper(), interactors_predicted))\n",
    "#         interactors_db = set(df['preferredName_B'])\n",
    "#         common = interactors_db.intersection(interactors_predicted)\n",
    "#         percentage_predicted[hub] = len(common)/len(interactors_predicted)\n",
    "#     except:\n",
    "#         exceptions.append(hub)"
   ]
  }
 ],
 "metadata": {
  "kernelspec": {
   "display_name": "Python 3 (ipykernel)",
   "language": "python",
   "name": "python3"
  },
  "language_info": {
   "codemirror_mode": {
    "name": "ipython",
    "version": 3
   },
   "file_extension": ".py",
   "mimetype": "text/x-python",
   "name": "python",
   "nbconvert_exporter": "python",
   "pygments_lexer": "ipython3",
   "version": "3.9.12"
  },
  "vscode": {
   "interpreter": {
    "hash": "b67c32649d4e3d61c4781f757843c743bfb03b11540cea12a0346b1b611554a3"
   }
  }
 },
 "nbformat": 4,
 "nbformat_minor": 2
}
