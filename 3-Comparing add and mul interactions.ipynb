{
 "cells": [
  {
   "cell_type": "code",
   "execution_count": 1,
   "id": "6a2936c9",
   "metadata": {},
   "outputs": [],
   "source": [
    "from my_methods import *\n",
    "import requests\n",
    "import io"
   ]
  },
  {
   "cell_type": "code",
   "execution_count": 2,
   "id": "ef3d28c7",
   "metadata": {},
   "outputs": [],
   "source": [
    "dfE = pd.read_table('data/SGA_ExE.txt')\n",
    "dfE = dfE.loc[dfE['P-value']<0.05]\n",
    "\n",
    "dfN = pd.read_table('data/SGA_NxN.txt')\n",
    "dfN = dfN.loc[dfN['P-value']<0.05]\n",
    "\n",
    "dfEN = pd.read_table('data/SGA_ExN_NxE.txt')\n",
    "dfEN = dfEN.loc[dfEN['P-value']<0.05]\n",
    "\n",
    "df_global = pd.concat([dfE, dfN, dfEN])\n",
    "df_global.reset_index(inplace=True)"
   ]
  },
  {
   "cell_type": "code",
   "execution_count": 3,
   "id": "13f5a1d5",
   "metadata": {},
   "outputs": [],
   "source": [
    "dfE['Multiplicative Score'] = dfE['Double mutant fitness'] - (dfE['Query single mutant fitness (SMF)']*dfE['Array SMF'])\n",
    "dfE['Additive Score'] = dfE['Double mutant fitness'] - (dfE['Query single mutant fitness (SMF)']+dfE['Array SMF']-1)\n",
    "########################################################################################################################\n",
    "dfN['Multiplicative Score'] = dfN['Double mutant fitness'] - (dfN['Query single mutant fitness (SMF)']*dfN['Array SMF'])\n",
    "dfN['Additive Score'] = dfN['Double mutant fitness'] - (dfN['Query single mutant fitness (SMF)']+dfN['Array SMF']-1)\n",
    "########################################################################################################################\n",
    "df_global['Multiplicative Score'] = df_global['Double mutant fitness'] - (df_global['Query single mutant fitness (SMF)']*df_global['Array SMF'])\n",
    "df_global['Additive Score'] = df_global['Double mutant fitness'] - (df_global['Query single mutant fitness (SMF)']+df_global['Array SMF']-1)"
   ]
  },
  {
   "cell_type": "code",
   "execution_count": 4,
   "id": "565f4dcf",
   "metadata": {},
   "outputs": [],
   "source": [
    "# def select_extreme_list(array, percentage=2.5):\n",
    "#     array = copy.deepcopy(array)\n",
    "#     array = sorted(array)\n",
    "#     array0 = array[:int(len(array)*percentage/100)]\n",
    "#     array1 = array[-int(len(array)*percentage/100):]\n",
    "#     return np.concatenate([array0, array1])"
   ]
  },
  {
   "cell_type": "code",
   "execution_count": 5,
   "id": "bd34fdbc",
   "metadata": {},
   "outputs": [],
   "source": [
    "# Normalizing values\n",
    "mean_mul = np.nanmean(list(dfE['Multiplicative Score']))\n",
    "mean_add = np.nanmean(list(dfE['Additive Score']))\n",
    "\n",
    "dfE['Multiplicative Score'] = dfE['Multiplicative Score'].map(lambda x: x-mean_mul)\n",
    "dfE['Additive Score'] = dfE['Additive Score'].map(lambda x: x-mean_add)\n",
    "\n",
    "mean_mul = np.nanmean(list(dfN['Multiplicative Score']))\n",
    "mean_add = np.nanmean(list(dfN['Additive Score']))\n",
    "\n",
    "dfN['Multiplicative Score'] = dfN['Multiplicative Score'].map(lambda x: x-mean_mul)\n",
    "dfN['Additive Score'] = dfN['Additive Score'].map(lambda x: x-mean_add)\n",
    "\n",
    "mean_mul = np.nanmean(list(df_global['Multiplicative Score']))\n",
    "mean_add = np.nanmean(list(df_global['Additive Score']))\n",
    "\n",
    "df_global['Multiplicative Score'] = df_global['Multiplicative Score'].map(lambda x: x-mean_mul)\n",
    "df_global['Additive Score'] = df_global['Additive Score'].map(lambda x: x-mean_add)"
   ]
  },
  {
   "cell_type": "code",
   "execution_count": 6,
   "id": "e195efd5",
   "metadata": {},
   "outputs": [
    {
     "name": "stdout",
     "output_type": "stream",
     "text": [
      "Ignoradas en el add:  3596\n",
      "Ignoradas en el mul:  10176\n"
     ]
    }
   ],
   "source": [
    "cond1_mul = abs(df_global['Multiplicative Score']) > 0.3\n",
    "cond2_mul = abs(df_global['Additive Score']) < 0.3\n",
    "\n",
    "\n",
    "filtered_mul = df_global.loc[cond1_mul & cond2_mul]\n",
    "filtered_mul.reset_index(inplace=True)\n",
    "filt_pairs_mul = set([tuple(sorted((filtered_mul.loc[i, 'Query allele name'], filtered_mul.loc[i, 'Array allele name']))) for i in range(len(filtered_mul))])\n",
    "##### Sorting by name in each tuple of the list\n",
    "\n",
    "\n",
    "################################################################\n",
    "\n",
    "cond1_add = abs(df_global['Multiplicative Score']) < 0.3\n",
    "cond2_add = abs(df_global['Additive Score']) > 0.3\n",
    "\n",
    "\n",
    "filtered_add = df_global.loc[cond1_add & cond2_add]\n",
    "filtered_add.reset_index(inplace=True)\n",
    "filt_pairs_add = set([tuple(sorted((filtered_add.loc[i, 'Query allele name'], filtered_add.loc[i, 'Array allele name']))) for i in range(len(filtered_add))])\n",
    "##### Sorting by name in each tuple of the list\n",
    "\n",
    "\n",
    "print('Ignoradas en el add: ', len(filt_pairs_mul))\n",
    "print('Ignoradas en el mul: ', len(filt_pairs_add))\n",
    "### 3662 ignored by additive ><=\n",
    "### 10267 ignored by multiplicative ><="
   ]
  },
  {
   "cell_type": "code",
   "execution_count": 7,
   "id": "e01d276c",
   "metadata": {},
   "outputs": [
    {
     "data": {
      "text/plain": [
       "(3596, 10176)"
      ]
     },
     "execution_count": 7,
     "metadata": {},
     "output_type": "execute_result"
    }
   ],
   "source": [
    "len(filt_pairs_mul), len(filt_pairs_add)"
   ]
  },
  {
   "cell_type": "code",
   "execution_count": 8,
   "id": "4d81ac53",
   "metadata": {},
   "outputs": [
    {
     "data": {
      "text/plain": [
       "2211047"
      ]
     },
     "execution_count": 8,
     "metadata": {},
     "output_type": "execute_result"
    }
   ],
   "source": [
    "# Ignored by both models\n",
    "cond1_ign = abs(df_global['Multiplicative Score']) < 0.3\n",
    "cond2_ign = abs(df_global['Additive Score']) < 0.3\n",
    "\n",
    "\n",
    "ignored_both = df_global.loc[cond1_ign & cond2_ign]\n",
    "ignored_both.reset_index(inplace=True)\n",
    "ignored_both = set([tuple(sorted((ignored_both.loc[i, 'Query allele name'], ignored_both.loc[i, 'Array allele name']))) for i in range(len(ignored_both))])\n",
    "##### Sorting by name in each tuple of the list\n",
    "len(ignored_both)"
   ]
  },
  {
   "cell_type": "code",
   "execution_count": 9,
   "id": "64c0f553",
   "metadata": {},
   "outputs": [
    {
     "data": {
      "text/plain": [
       "31238"
      ]
     },
     "execution_count": 9,
     "metadata": {},
     "output_type": "execute_result"
    }
   ],
   "source": [
    "# Shared by both models\n",
    "cond1_shared = abs(df_global['Multiplicative Score']) > 0.3\n",
    "cond2_shared = abs(df_global['Additive Score']) > 0.3\n",
    "\n",
    "shared_both = df_global.loc[cond1_shared & cond2_shared]\n",
    "shared_both.reset_index(inplace=True)\n",
    "shared_both = set([tuple(sorted((shared_both.loc[i, 'Query allele name'], shared_both.loc[i, 'Array allele name']))) for i in range(len(shared_both))])\n",
    "##### Sorting by name in each tuple of the list\n",
    "len(shared_both)"
   ]
  },
  {
   "cell_type": "code",
   "execution_count": 18,
   "id": "4939563b",
   "metadata": {},
   "outputs": [],
   "source": [
    "def plt_color(mul_list, add_list, factor=1, std_values=None):\n",
    "    values = list(zip(mul_list, add_list))\n",
    "    if std_values==None:\n",
    "        mul_std = np.nanstd(mul_list)\n",
    "        add_std = np.nanstd(add_list)\n",
    "    else:\n",
    "        mul_std = std_values[0]\n",
    "        add_std = std_values[1]\n",
    "    colors = []\n",
    "    for i in values:\n",
    "        if i[0]<-factor*mul_std and i[1]>factor*add_std:\n",
    "            colors.append('red')\n",
    "        elif abs(i[0])<factor*mul_std and abs(i[1])>factor*add_std:\n",
    "            colors.append('lime')\n",
    "        elif abs(i[0])>factor*mul_std and abs(i[1])<factor*add_std:\n",
    "            colors.append('green')\n",
    "        elif abs(i[0])<factor*mul_std and abs(i[1])<factor*add_std:\n",
    "            colors.append('lightgray')\n",
    "        else: colors.append('black')\n",
    "    return colors\n",
    "\n",
    "# def count_values(mul_list, add_list, factor, select_extreme=False, percentage=2.5):\n",
    "#     if select_extreme==True:\n",
    "#         zipped = list(zip(mul_list, add_list))\n",
    "#         ##########\n",
    "#         zipped0 = zipped[:]\n",
    "#         zipped0.sort(key=lambda x: x[0])\n",
    "#         ##########\n",
    "#         zipped1 = zipped[:]\n",
    "#         zipped1.sort(key=lambda x: x[1])\n",
    "#         ##########\n",
    "#         z0 = zipped0[:int(len(zipped)*percentage/100)]\n",
    "#         z0.extend(zipped0[-int(len(zipped)*percentage/100):])\n",
    "#         ##########\n",
    "#         z1 = zipped1[:int(len(zipped)*percentage/100)]\n",
    "#         z1.extend(zipped1[-int(len(zipped)*percentage/100):])\n",
    "#         ##########\n",
    "#         z0 = set(z0)\n",
    "#         z1 = set(z1)\n",
    "#         z = z0.intersection(z1)\n",
    "#         values = list(z)\n",
    "#     else:\n",
    "#         values = list(zip(mul_list, add_list))\n",
    "#     mul_std = np.nanstd(mul_list)\n",
    "#     add_std = np.nanstd(add_list)\n",
    "#     opp = 0\n",
    "#     missed_eM = 0\n",
    "#     missed_eA = 0\n",
    "#     no_int = 0\n",
    "#     interacting = 0\n",
    "#     for i in values:\n",
    "#         if i[0]<-mul_std*factor and i[1]>add_std*factor:\n",
    "#             opp += 1\n",
    "#         elif abs(i[0])<mul_std*factor and abs(i[1])>add_std*factor:\n",
    "#             missed_eM += 1\n",
    "#         elif abs(i[0])>mul_std*factor and abs(i[1])<add_std*factor:\n",
    "#             missed_eA += 1\n",
    "#         elif abs(i[0])<mul_std*factor and abs(i[1])<add_std*factor:\n",
    "#             no_int += 1\n",
    "#         else: interacting += 1\n",
    "#     return opp, missed_eM, missed_eA, no_int, interacting\n",
    "\n",
    "def plot_difference(mul_list, add_list, factor=1, select_extreme=False, percentage=2.5, save=False, name='default.png'):\n",
    "    mul_std = np.nanstd(mul_list)\n",
    "    add_std = np.nanstd(add_list)\n",
    "    plt.figure(figsize=(10,10))\n",
    "    if select_extreme==False:\n",
    "        plt.scatter(mul_list, add_list, c=plt_color(mul_list, add_list, factor), s=2, zorder=10, alpha=0.5)\n",
    "    if select_extreme==True:\n",
    "        zipped = list(zip(mul_list, add_list))\n",
    "        ##########\n",
    "        zipped0 = zipped[:]\n",
    "        zipped0.sort(key=lambda x: x[0])\n",
    "        ##########\n",
    "        zipped1 = zipped[:]\n",
    "        zipped1.sort(key=lambda x: x[1])\n",
    "        ##########\n",
    "        z0 = zipped0[:int(len(zipped)*percentage/100)]\n",
    "        z0.extend(zipped0[-int(len(zipped)*percentage/100):])\n",
    "        ##########\n",
    "        z1 = zipped1[:int(len(zipped)*percentage/100)]\n",
    "        z1.extend(zipped1[-int(len(zipped)*percentage/100):])\n",
    "        ##########\n",
    "        z0 = set(z0)\n",
    "        z1 = set(z1)\n",
    "        z = z0.intersection(z1)\n",
    "        ##########\n",
    "        mul = list(map(lambda x: x[0], z))\n",
    "        add = list(map(lambda x: x[1], z))\n",
    "        plt.scatter(mul, add, c=plt_color(mul, add, factor=1, std_values=[mul_std, add_std]), s=2, zorder=10, alpha=0.5)\n",
    "    b=plt.xlabel(\"Multiplicative model\", fontsize = 20)\n",
    "    c=plt.ylabel(\"Additive\", fontsize = 20)\n",
    "    f=plt.axvline(color='black')\n",
    "    g=plt.axhline(color='black')\n",
    "    h=plt.axvline(-mul_std*factor, zorder=20, color='lightgrey', alpha=0.8)\n",
    "    i=plt.axvline(mul_std*factor, zorder=20, color='lightgrey', alpha=0.8)\n",
    "    j=plt.axhline(-add_std*factor, zorder=20, color='lightgrey', alpha=0.8)\n",
    "    k=plt.axhline(add_std*factor, zorder=20, color='lightgrey', alpha=0.8)\n",
    "    # d=plt.xticks(np.arange(-1.4,1.4,0.1))\n",
    "    # e=plt.yticks(np.arange(-1.4,1.4,0.1))\n",
    "    plt.grid(True)\n",
    "    if save:\n",
    "        plt.savefig('img/'+name)\n",
    "\n",
    "# def plot_bars(mul_list, add_list, factor=1, select_extreme=False, percentage=2.5, save=False, name='default.png'):\n",
    "#     labels = ['opposite sign', 'missed by eM', 'missed by eA', 'no interacting', 'interacting']\n",
    "#     values = [*count_values(mul_list, add_list, factor, select_extreme, percentage)]\n",
    "#     colors = ['red', 'lime', 'green', 'lightgrey', 'black']\n",
    "#     zipped = list(zip(values, labels, colors))\n",
    "#     zipped.sort(key=lambda x: x[0])\n",
    "#     values = list(map(lambda x: x[0], zipped))\n",
    "#     labels = list(map(lambda x: x[1], zipped))\n",
    "#     colors = list(map(lambda x: x[2], zipped))\n",
    "#     fig, ax = plt.subplots()\n",
    "#     bars = ax.barh(labels, width=values, color=colors, height=0.8, edgecolor='black')\n",
    "#     plt.yticks(fontsize=15)\n",
    "#     plt.xticks(fontsize=10)\n",
    "#     text = ax.bar_label(bars, fontsize=15)\n",
    "#     if save:\n",
    "#         plt.savefig('img/'+name)"
   ]
  },
  {
   "cell_type": "code",
   "execution_count": 21,
   "id": "11c95c36",
   "metadata": {},
   "outputs": [],
   "source": [
    "def plt_color_value(mul_list, add_list, value):\n",
    "    values = list(zip(mul_list, add_list))\n",
    "    colors = []\n",
    "    for i in values:\n",
    "        mul = abs(i[0])\n",
    "        add = abs(i[1])\n",
    "        if mul<value and add<value:\n",
    "            colors.append('gray')\n",
    "        elif mul>value and add<value:\n",
    "            colors.append('green')\n",
    "        elif mul>value and add>value:\n",
    "            colors.append('black')\n",
    "        else: colors.append('lime')\n",
    "    return colors"
   ]
  },
  {
   "cell_type": "code",
   "execution_count": null,
   "id": "806ceee2",
   "metadata": {},
   "outputs": [],
   "source": [
    "def plot_difference_value(mul_list, add_list, value, save=False, name='default.png'):\n",
    "    plt.figure(figsize=(10,10))\n",
    "    plt.scatter(mul_list, add_list, c=plt_color_value(mul_list, add_list, value), s=2, zorder=10, alpha=0.5)\n",
    "    b=plt.xlabel(\"Modelo multiplicativo\", fontsize = 15)\n",
    "    c=plt.ylabel(\"Modelo aditivo\", fontsize = 15)\n",
    "    f=plt.axvline(color='black')\n",
    "    g=plt.axhline(color='black')\n",
    "    h=plt.axvline(-value, zorder=20, color='lightgrey', alpha=0.8)\n",
    "    i=plt.axvline(value, zorder=20, color='lightgrey', alpha=0.8)\n",
    "    j=plt.axhline(-value, zorder=20, color='lightgrey', alpha=0.8)\n",
    "    k=plt.axhline(value, zorder=20, color='lightgrey', alpha=0.8)\n",
    "    d=plt.xticks(np.arange(-1.4,1.4,0.2), fontsize=16)\n",
    "    e=plt.yticks(np.arange(-1.4,1.4,0.2), fontsize=16)\n",
    "    plt.grid(True)\n",
    "    plt.text(0.5, 0.5, '6 inches x 2 inches')\n",
    "    if save:\n",
    "        plt.savefig(name)"
   ]
  },
  {
   "cell_type": "code",
   "execution_count": 31,
   "id": "c7937910",
   "metadata": {},
   "outputs": [
    {
     "data": {
      "image/png": "[encoded data removed]",
      "text/plain": [
       "<Figure size 720x720 with 1 Axes>"
      ]
     },
     "metadata": {
      "needs_background": "light"
     },
     "output_type": "display_data"
    }
   ],
   "source": [
    "plt.figure(figsize=(10,10))\n",
    "\n",
    "value=0.3\n",
    "df = df_global[['Multiplicative Score', 'Additive Score']]\n",
    "\n",
    "green = df.loc[(abs(df['Multiplicative Score'])>value) & (abs(df['Additive Score'])<value)]\n",
    "plt.scatter(green['Multiplicative Score'], green['Additive Score'], c='green', label='Mul, ignored by add', s=2, alpha=0.5)\n",
    "\n",
    "lime = df.loc[(abs(df['Multiplicative Score'])<value) & (abs(df['Additive Score'])>value)]\n",
    "plt.scatter(lime['Multiplicative Score'], lime['Additive Score'], c='lime', label='Add, ignored by mul', s=2, alpha=0.5)\n",
    "\n",
    "gray = df.loc[(abs(df['Multiplicative Score'])<value) & (abs(df['Additive Score'])<value)]\n",
    "plt.scatter(gray['Multiplicative Score'], gray['Additive Score'], c='gray', label='Ignored by both', s=2, alpha=0.5)\n",
    "\n",
    "black = df.loc[(abs(df['Multiplicative Score'])>value) & (abs(df['Additive Score'])>value)]\n",
    "plt.scatter(black['Multiplicative Score'], black['Additive Score'], c='black', label='Shared by both', s=2, alpha=0.5)\n",
    "\n",
    "b=plt.xlabel('Multiplicative model', fontsize = 15)\n",
    "c=plt.ylabel('Additive model', fontsize = 15)\n",
    "f=plt.axvline(color='black')\n",
    "g=plt.axhline(color='black')\n",
    "h=plt.axvline(-value, zorder=20, color='lightgrey', alpha=0.8)\n",
    "i=plt.axvline(value, zorder=20, color='lightgrey', alpha=0.8)\n",
    "j=plt.axhline(-value, zorder=20, color='lightgrey', alpha=0.8)\n",
    "k=plt.axhline(value, zorder=20, color='lightgrey', alpha=0.8)\n",
    "d=plt.xticks(np.arange(-1.4,1.4,0.2), fontsize=12)\n",
    "e=plt.yticks(np.arange(-1.4,1.4,0.2), fontsize=12)\n",
    "plt.grid(True)\n",
    "a = plt.text(-0.18, 0.1, f'{len(ignored_both)}', fontweight='bold', c='blue', fontsize=15)\n",
    "a = plt.text(0, 0.4, f'{len(filt_pairs_add)}', fontweight='bold', c='blue', fontsize=15)\n",
    "a = plt.text(-0.5, -0.3, f'{len(filt_pairs_mul)}', fontweight='bold', c='blue', fontsize=15)\n",
    "a = plt.text(0.35, 0.6, f'{len(shared_both)}', fontweight='bold', c='blue', fontsize=15)\n",
    "\n",
    "leg = plt.legend(fontsize=12)\n",
    "leg.legendHandles[0]._sizes = [35]\n",
    "leg.legendHandles[1]._sizes = [35]\n",
    "leg.legendHandles[2]._sizes = [35]\n",
    "leg.legendHandles[3]._sizes = [35]\n",
    "\n",
    "plt.savefig('img/values_comparison.png')"
   ]
  },
  {
   "cell_type": "code",
   "execution_count": 27,
   "id": "82d9b508",
   "metadata": {},
   "outputs": [],
   "source": [
    "import statsmodels.api as sm"
   ]
  },
  {
   "cell_type": "code",
   "execution_count": 28,
   "id": "078ca397",
   "metadata": {},
   "outputs": [],
   "source": [
    "selected = df_global[(df_global['Multiplicative Score']<-0.3) & (df_global['Additive Score']<-0.3)]\n",
    "x = list(selected['Multiplicative Score'])\n",
    "y = list(selected['Additive Score'])"
   ]
  },
  {
   "cell_type": "code",
   "execution_count": 30,
   "id": "2a1d9f89",
   "metadata": {},
   "outputs": [
    {
     "data": {
      "text/plain": [
       "0.9789520918098291"
      ]
     },
     "execution_count": 30,
     "metadata": {},
     "output_type": "execute_result"
    }
   ],
   "source": [
    "0.9894200785358205**2"
   ]
  },
  {
   "cell_type": "code",
   "execution_count": 26,
   "id": "ad671948",
   "metadata": {},
   "outputs": [
    {
     "name": "stdout",
     "output_type": "stream",
     "text": [
      "LinregressResult(slope=1.0143331039828605, intercept=0.003952501865356894, rvalue=0.9894200785358205, pvalue=0.0, stderr=0.000834480608202851, intercept_stderr=0.0003673333258380163)\n"
     ]
    }
   ],
   "source": [
    "print(stats.linregress(x,y))"
   ]
  },
  {
   "cell_type": "code",
   "execution_count": 29,
   "id": "4d4e2e82",
   "metadata": {},
   "outputs": [
    {
     "name": "stdout",
     "output_type": "stream",
     "text": [
      "                            OLS Regression Results                            \n",
      "==============================================================================\n",
      "Dep. Variable:                      y   R-squared:                       0.979\n",
      "Model:                            OLS   Adj. R-squared:                  0.979\n",
      "Method:                 Least Squares   F-statistic:                 1.478e+06\n",
      "Date:                Fri, 04 Nov 2022   Prob (F-statistic):               0.00\n",
      "Time:                        15:14:53   Log-Likelihood:                 84862.\n",
      "No. Observations:               31769   AIC:                        -1.697e+05\n",
      "Df Residuals:                   31767   BIC:                        -1.697e+05\n",
      "Df Model:                           1                                         \n",
      "Covariance Type:            nonrobust                                         \n",
      "==============================================================================\n",
      "                 coef    std err          t      P>|t|      [0.025      0.975]\n",
      "------------------------------------------------------------------------------\n",
      "const          0.0040      0.000     10.760      0.000       0.003       0.005\n",
      "x1             1.0143      0.001   1215.526      0.000       1.013       1.016\n",
      "==============================================================================\n",
      "Omnibus:                    11642.894   Durbin-Watson:                   1.217\n",
      "Prob(Omnibus):                  0.000   Jarque-Bera (JB):            47563.277\n",
      "Skew:                           1.797   Prob(JB):                         0.00\n",
      "Kurtosis:                       7.797   Cond. No.                         10.5\n",
      "==============================================================================\n",
      "\n",
      "Notes:\n",
      "[1] Standard Errors assume that the covariance matrix of the errors is correctly specified.\n"
     ]
    }
   ],
   "source": [
    "X2 = sm.add_constant(x)\n",
    "est = sm.OLS(y, X2)\n",
    "est2 = est.fit()\n",
    "print(est2.summary())"
   ]
  },
  {
   "cell_type": "code",
   "execution_count": null,
   "id": "90cafedf",
   "metadata": {},
   "outputs": [],
   "source": []
  },
  {
   "cell_type": "code",
   "execution_count": null,
   "id": "772fb348",
   "metadata": {},
   "outputs": [],
   "source": []
  },
  {
   "cell_type": "code",
   "execution_count": 30,
   "id": "a9442e9b",
   "metadata": {},
   "outputs": [],
   "source": [
    "# def count_values_with_cutoff(mul_list, add_list, value):\n",
    "#     values = list(zip(mul_list, add_list))\n",
    "#     mul_std = np.nanstd(mul_list)\n",
    "#     add_std = np.nanstd(add_list)\n",
    "#     opp = 0\n",
    "#     missed_eM = 0\n",
    "#     missed_eA = 0\n",
    "#     no_int = 0\n",
    "#     interacting = 0\n",
    "#     for i in values:\n",
    "#         mul = abs(i[0])\n",
    "#         add = abs(i[1])\n",
    "#         if mul<value and add<value:\n",
    "#             no_int+=1\n",
    "#         elif mul>value and add<value:\n",
    "#             missed_eA+=1\n",
    "#         elif mul>value and add>value:\n",
    "#             interacting+=1\n",
    "#         else: missed_eM+=1\n",
    "#     return opp, missed_eM, missed_eA, no_int, interacting\n",
    "\n",
    "\n",
    "# def plot_bars_value(mul_list, add_list, value, save=False, name='default.png'):\n",
    "#     labels = ['opposite sign', 'missed by eM', 'missed by eA', 'no interacting', 'interacting']\n",
    "#     values = [*count_values_with_cutoff(mul_list, add_list, value)]\n",
    "#     colors = ['red', 'lime', 'green', 'lightgrey', 'black']\n",
    "#     zipped = list(zip(values, labels, colors))\n",
    "#     zipped.sort(key=lambda x: x[0])\n",
    "#     values = list(map(lambda x: x[0], zipped))\n",
    "#     labels = list(map(lambda x: x[1], zipped))\n",
    "#     colors = list(map(lambda x: x[2], zipped))\n",
    "#     fig, ax = plt.subplots()\n",
    "#     bars = ax.barh(labels, width=values, color=colors, height=0.8, edgecolor='black')\n",
    "#     plt.yticks(fontsize=15)\n",
    "#     plt.xticks(fontsize=10)\n",
    "#     text = ax.bar_label(bars, fontsize=15)\n",
    "#     if save:\n",
    "#         plt.savefig(+name)"
   ]
  },
  {
   "cell_type": "code",
   "execution_count": 1,
   "id": "119fb32f",
   "metadata": {},
   "outputs": [],
   "source": [
    "# plot_bars_value(list(df_global['Multiplicative Score']), list(df_global['Additive Score']), value=0.3)"
   ]
  },
  {
   "cell_type": "code",
   "execution_count": 53,
   "id": "961b6c15",
   "metadata": {},
   "outputs": [],
   "source": [
    "# Process gene names to pass them to STRING\n",
    "filt_pairs_add = list(map(lambda x: (x[0].split('-')[0].upper(), x[1].split('-')[0].upper()), filt_pairs_add))\n",
    "filt_pairs_mul = list(map(lambda x: (x[0].split('-')[0].upper(), x[1].split('-')[0].upper()), filt_pairs_mul))"
   ]
  },
  {
   "cell_type": "code",
   "execution_count": 56,
   "id": "483d8537",
   "metadata": {},
   "outputs": [
    {
     "name": "stdout",
     "output_type": "stream",
     "text": [
      "Round:  10166 /10176    Coincidences:  392\r"
     ]
    }
   ],
   "source": [
    "count = 0\n",
    "coincidences = []\n",
    "exceptions = []\n",
    "filt_tables = 0.7\n",
    "for tup in filt_pairs_add:\n",
    "    try:\n",
    "        response = requests.get(f'https://string-db.org/api/tsv/interaction_partners?identifiers={tup[0]}&species=4932&limit=100')\n",
    "        table = pd.read_table(io.StringIO(response.content.decode('utf-8')))\n",
    "        df = table.loc[table['score']>filt_tables]\n",
    "        interactors = list(df['preferredName_B'])\n",
    "        if tup[1] in interactors:\n",
    "            coincidences.append(tup)\n",
    "        count += 1\n",
    "        print('Round: ', count, f'/{len(filt_pairs_add)}', '   Coincidences: ', len(coincidences), end='\\r')\n",
    "    except:\n",
    "        exceptions.append(tup)\n",
    "## Round:  10166 /10176    Coincidences:  392   ->  3.85%"
   ]
  },
  {
   "cell_type": "code",
   "execution_count": 57,
   "id": "5f526fbc",
   "metadata": {},
   "outputs": [
    {
     "name": "stdout",
     "output_type": "stream",
     "text": [
      "Round:  3593 /3596    Coincidences:  503\r"
     ]
    }
   ],
   "source": [
    "count = 0\n",
    "coincidences = []\n",
    "exceptions = []\n",
    "filt_tables = 0.7\n",
    "for tup in filt_pairs_mul:\n",
    "    try:\n",
    "        response = requests.get(f'https://string-db.org/api/tsv/interaction_partners?identifiers={tup[0]}&species=4932&limit=100')\n",
    "        table = pd.read_table(io.StringIO(response.content.decode('utf-8')))\n",
    "        df = table.loc[table['score']>filt_tables]\n",
    "        interactors = list(df['preferredName_B'])\n",
    "        if tup[1] in interactors:\n",
    "            coincidences.append(tup)\n",
    "        count += 1\n",
    "        print('Round: ', count, f'/{len(filt_pairs_mul)}', '   Coincidences: ', len(coincidences), end='\\r')\n",
    "    except:\n",
    "        exceptions.append(tup)\n",
    "# Round:  3593 /3596    Coincidences:  503   ->  13.98%"
   ]
  }
 ],
 "metadata": {
  "kernelspec": {
   "display_name": "Python 3 (ipykernel)",
   "language": "python",
   "name": "python3"
  },
  "language_info": {
   "codemirror_mode": {
    "name": "ipython",
    "version": 3
   },
   "file_extension": ".py",
   "mimetype": "text/x-python",
   "name": "python",
   "nbconvert_exporter": "python",
   "pygments_lexer": "ipython3",
   "version": "3.9.12"
  },
  "latex_envs": {
   "LaTeX_envs_menu_present": true,
   "autoclose": true,
   "autocomplete": true,
   "bibliofile": "biblio.bib",
   "cite_by": "apalike",
   "current_citInitial": 1,
   "eqLabelWithNumbers": true,
   "eqNumInitial": 1,
   "hotkeys": {
    "equation": "Ctrl-E",
    "itemize": "Ctrl-I"
   },
   "labels_anchors": false,
   "latex_user_defs": false,
   "report_style_numbering": false,
   "user_envs_cfg": true
  },
  "vscode": {
   "interpreter": {
    "hash": "b67c32649d4e3d61c4781f757843c743bfb03b11540cea12a0346b1b611554a3"
   }
  }
 },
 "nbformat": 4,
 "nbformat_minor": 5
}
