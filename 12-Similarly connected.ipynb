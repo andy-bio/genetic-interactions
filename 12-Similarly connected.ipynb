{
 "cells": [
  {
   "cell_type": "code",
   "execution_count": 1,
   "metadata": {},
   "outputs": [],
   "source": [
    "from my_methods import *"
   ]
  },
  {
   "cell_type": "code",
   "execution_count": 2,
   "metadata": {},
   "outputs": [],
   "source": [
    "E_mul = json_load('ExE_mul_splitted.json')\n",
    "E_add = json_load('ExE_add_splitted.json')"
   ]
  },
  {
   "cell_type": "code",
   "execution_count": 10,
   "metadata": {},
   "outputs": [],
   "source": [
    "def find_similar_connections(dic1, dic2, int_dif=5):\n",
    "    sim_conct = []\n",
    "    for k in dic1.keys():\n",
    "        try:\n",
    "            cnt1 = len(dic1[k].keys())\n",
    "            cnt2 = len(dic2[k].keys())\n",
    "            if abs(cnt1-cnt2)<=int_dif:\n",
    "                sim_conct.append(k)\n",
    "        except:\n",
    "            pass\n",
    "    return sim_conct\n",
    "\n",
    "def find_different_profiles(gene, dic1, dic2):\n",
    "    common_int = set(dic1[gene].keys()).intersection(set(dic2[gene].keys()))\n",
    "    x_list = [dic1[gene][k] for k in common_int]\n",
    "    y_list = [dic2[gene][k] for k in common_int]\n",
    "    try:\n",
    "        value = scipy.stats.pearsonr(x_list, y_list)\n",
    "        if value[1]<0.05:\n",
    "            return gene, value[0]\n",
    "    except:\n",
    "        pass"
   ]
  },
  {
   "cell_type": "code",
   "execution_count": 49,
   "metadata": {},
   "outputs": [],
   "source": [
    "similar_con = find_similar_connections(E_mul, E_add, int_dif=15)"
   ]
  },
  {
   "cell_type": "code",
   "execution_count": 50,
   "metadata": {},
   "outputs": [],
   "source": [
    "gene_pcc = []\n",
    "for gene in similar_con:\n",
    "    tup = find_different_profiles(gene, E_mul, E_add)\n",
    "    gene_pcc.append(tup)"
   ]
  },
  {
   "cell_type": "code",
   "execution_count": 51,
   "metadata": {},
   "outputs": [
    {
     "data": {
      "image/png": "[encoded data removed]",
      "text/plain": [
       "<Figure size 720x720 with 1 Axes>"
      ]
     },
     "metadata": {
      "needs_background": "light"
     },
     "output_type": "display_data"
    }
   ],
   "source": [
    "def select(x):\n",
    "    return x[1] if x!=None else float('nan')\n",
    "\n",
    "l = list(map(lambda x: select(x), gene_pcc))\n",
    "a = plt.hist(l, bins=np.arange(-1,1,0.05), edgecolor='k')\n",
    "plt.grid()"
   ]
  },
  {
   "cell_type": "code",
   "execution_count": 52,
   "metadata": {},
   "outputs": [
    {
     "data": {
      "text/plain": [
       "547"
      ]
     },
     "execution_count": 52,
     "metadata": {},
     "output_type": "execute_result"
    }
   ],
   "source": [
    "# Tratando de buscar genes que en ambas redes esten conectados parecido encuentro que los que tienen grados cercanos en ambas redes\n",
    "# son de perfiles de interaccion parecidos, entonces no puedo comparar diferencias aqui"
   ]
  },
  {
   "cell_type": "code",
   "execution_count": null,
   "metadata": {},
   "outputs": [],
   "source": []
  },
  {
   "cell_type": "code",
   "execution_count": null,
   "metadata": {},
   "outputs": [],
   "source": []
  },
  {
   "cell_type": "code",
   "execution_count": null,
   "metadata": {},
   "outputs": [],
   "source": []
  },
  {
   "cell_type": "code",
   "execution_count": null,
   "metadata": {},
   "outputs": [],
   "source": []
  },
  {
   "cell_type": "code",
   "execution_count": null,
   "metadata": {},
   "outputs": [],
   "source": []
  },
  {
   "cell_type": "code",
   "execution_count": null,
   "metadata": {},
   "outputs": [],
   "source": []
  }
 ],
 "metadata": {
  "kernelspec": {
   "display_name": "Python 3.9.12 ('base')",
   "language": "python",
   "name": "python3"
  },
  "language_info": {
   "codemirror_mode": {
    "name": "ipython",
    "version": 3
   },
   "file_extension": ".py",
   "mimetype": "text/x-python",
   "name": "python",
   "nbconvert_exporter": "python",
   "pygments_lexer": "ipython3",
   "version": "3.9.12"
  },
  "orig_nbformat": 4,
  "vscode": {
   "interpreter": {
    "hash": "b67c32649d4e3d61c4781f757843c743bfb03b11540cea12a0346b1b611554a3"
   }
  }
 },
 "nbformat": 4,
 "nbformat_minor": 2
}
